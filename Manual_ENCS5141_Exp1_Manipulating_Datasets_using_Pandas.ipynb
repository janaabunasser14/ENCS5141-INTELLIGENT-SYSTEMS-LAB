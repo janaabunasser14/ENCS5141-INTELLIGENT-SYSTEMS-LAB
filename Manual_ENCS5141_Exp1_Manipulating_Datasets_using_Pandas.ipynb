{
  "nbformat": 4,
  "nbformat_minor": 0,
  "metadata": {
    "colab": {
      "provenance": [],
      "authorship_tag": "ABX9TyNGyHsarb6Vgc+/OT+m1tUX",
      "include_colab_link": true
    },
    "kernelspec": {
      "name": "python3",
      "display_name": "Python 3"
    },
    "language_info": {
      "name": "python"
    }
  },
  "cells": [
    {
      "cell_type": "markdown",
      "metadata": {
        "id": "view-in-github",
        "colab_type": "text"
      },
      "source": [
        "<a href=\"https://colab.research.google.com/github/janaabunasser14/ENCS5141-INTELLIGENT-SYSTEMS-LAB/blob/main/Manual_ENCS5141_Exp1_Manipulating_Datasets_using_Pandas.ipynb\" target=\"_parent\"><img src=\"https://colab.research.google.com/assets/colab-badge.svg\" alt=\"Open In Colab\"/></a>"
      ]
    },
    {
      "cell_type": "markdown",
      "source": [
        "# Exp 1: Manipulating Datasets using Pandas"
      ],
      "metadata": {
        "id": "y-VqvQM03PD3"
      }
    },
    {
      "cell_type": "markdown",
      "source": [
        "## 2.2 Series and DataFrames\n",
        "\n",
        "### 2.2.1 Creating Pandas Series"
      ],
      "metadata": {
        "id": "DbceX0Co3qaK"
      }
    },
    {
      "cell_type": "markdown",
      "source": [
        "Example 1: Create a simple Pandas Series from a list:"
      ],
      "metadata": {
        "id": "cIMa8y6n3Z_w"
      }
    },
    {
      "cell_type": "code",
      "execution_count": null,
      "metadata": {
        "colab": {
          "base_uri": "https://localhost:8080/"
        },
        "id": "S1eugYud8wNQ",
        "outputId": "f57dc43b-d0dc-4cda-f1e3-aab82e58046f"
      },
      "outputs": [
        {
          "output_type": "stream",
          "name": "stdout",
          "text": [
            "0    1\n",
            "1    7\n",
            "2    2\n",
            "dtype: int64\n"
          ]
        }
      ],
      "source": [
        "import pandas as pd\n",
        "# create a simple list\n",
        "a = [1, 7, 2]\n",
        "# create series from a list\n",
        "my_Series = pd.Series(a)\n",
        "print(my_Series)"
      ]
    },
    {
      "cell_type": "markdown",
      "source": [
        " Example 2: Create a simple Pandas Series from a dictionary"
      ],
      "metadata": {
        "id": "uss0BLoi3eL3"
      }
    },
    {
      "cell_type": "code",
      "source": [
        "import pandas as pd\n",
        "# a simple dictionary\n",
        "calories = {\"day1\": 420, \"day2\": 380, \"day3\": 390}\n",
        "# create series from dictionary\n",
        "my_Series = pd.Series(calories)\n",
        "print(my_Series)"
      ],
      "metadata": {
        "colab": {
          "base_uri": "https://localhost:8080/"
        },
        "id": "tTf2KcYr-QHs",
        "outputId": "9012947d-c40c-4fe3-b2e2-2365e93e7325"
      },
      "execution_count": null,
      "outputs": [
        {
          "output_type": "stream",
          "name": "stdout",
          "text": [
            "day1    420\n",
            "day2    380\n",
            "day3    390\n",
            "dtype: int64\n"
          ]
        }
      ]
    },
    {
      "cell_type": "markdown",
      "source": [
        "### 2.2.2 Creating Pandas DataFrame\n",
        "\n",
        " Example 3: Create a DataFrame from a Series:"
      ],
      "metadata": {
        "id": "gHV7FwnO30Pf"
      }
    },
    {
      "cell_type": "code",
      "source": [
        " import pandas as pd\n",
        " # Initialize data to a series.\n",
        " d = pd.Series([10, 20, 30, 40])\n",
        " # creates Dataframe.\n",
        " df = pd.DataFrame(d)\n",
        " # print the data.\n",
        " print(df)"
      ],
      "metadata": {
        "colab": {
          "base_uri": "https://localhost:8080/"
        },
        "id": "EynFs_KU_LM2",
        "outputId": "7b312622-f980-4dc4-a4e0-30f84d89b712"
      },
      "execution_count": null,
      "outputs": [
        {
          "output_type": "stream",
          "name": "stdout",
          "text": [
            "    0\n",
            "0  10\n",
            "1  20\n",
            "2  30\n",
            "3  40\n"
          ]
        }
      ]
    },
    {
      "cell_type": "markdown",
      "source": [
        " Example 4: Creating DataFrame from a Dictionary of lists"
      ],
      "metadata": {
        "id": "jGCgvdqE38Mq"
      }
    },
    {
      "cell_type": "code",
      "source": [
        " import pandas as pd\n",
        " # initialize the data of lists.\n",
        " data = {'Name': ['Ahmad', 'Ali', 'Omar', 'Hamzah'],\n",
        " 'Age': [20, 21, 19, 18]}\n",
        " # Create DataFrame\n",
        " df = pd.DataFrame(data)\n",
        " # Print the output.\n",
        " print(df)"
      ],
      "metadata": {
        "colab": {
          "base_uri": "https://localhost:8080/"
        },
        "id": "kk-z6Gaf_4cU",
        "outputId": "69575225-b7b2-4b08-9124-f4d2425fe4eb"
      },
      "execution_count": null,
      "outputs": [
        {
          "output_type": "stream",
          "name": "stdout",
          "text": [
            "     Name  Age\n",
            "0   Ahmad   20\n",
            "1     Ali   21\n",
            "2    Omar   19\n",
            "3  Hamzah   18\n"
          ]
        }
      ]
    },
    {
      "cell_type": "markdown",
      "source": [
        " Example 5: Creating dataframe from two series"
      ],
      "metadata": {
        "id": "8ZM0z7v94AYY"
      }
    },
    {
      "cell_type": "code",
      "source": [
        " import pandas as pd\n",
        " data = {\n",
        " \"calories\": [420, 380, 390],\n",
        " \"duration\": [50, 40, 45]\n",
        " }\n",
        " myvar = pd.DataFrame(data)\n",
        " print(myvar)"
      ],
      "metadata": {
        "colab": {
          "base_uri": "https://localhost:8080/"
        },
        "id": "OyiftXw0_9kQ",
        "outputId": "0bcc5a10-2dab-474f-d984-97394f3da286"
      },
      "execution_count": null,
      "outputs": [
        {
          "output_type": "stream",
          "name": "stdout",
          "text": [
            "   calories  duration\n",
            "0       420        50\n",
            "1       380        40\n",
            "2       390        45\n"
          ]
        }
      ]
    },
    {
      "cell_type": "markdown",
      "source": [
        " Example 6: Load a CSV file named data.csv into a DataFrame"
      ],
      "metadata": {
        "id": "09nc9x2X4EuL"
      }
    },
    {
      "cell_type": "code",
      "source": [
        " import pandas as pd\n",
        " df = pd.read_csv('grades.csv')\n",
        " print(df)"
      ],
      "metadata": {
        "colab": {
          "base_uri": "https://localhost:8080/"
        },
        "id": "giZM4Ao7ARqR",
        "outputId": "988b5e1e-8c2a-4099-9851-f50c65fe9037"
      },
      "execution_count": null,
      "outputs": [
        {
          "output_type": "stream",
          "name": "stdout",
          "text": [
            "    HW1  HW2  Midterm  Project  Final\n",
            "0     0   78       32       87     71\n",
            "1     0   37       25       91     48\n",
            "2    63  100       34       92     59\n",
            "3    70   93       35       92     64\n",
            "4    50   75       20       76     42\n",
            "5    43    0       26       55     54\n",
            "6     0   47       22        0     37\n",
            "7    47   80       26       94     56\n",
            "8    97   97       30       92     60\n",
            "9    50   67       21       76     38\n",
            "10   40    0       18       94     35\n",
            "11   57   87       28       76     47\n",
            "12   23  100       29       75     44\n",
            "13   63   50       26       75     58\n",
            "14   77   93       29       71     52\n",
            "15   57   83       28       72     62\n",
            "16   57   87       28       72     45\n",
            "17   63   50       27       85     44\n",
            "18   80   97       40       85     68\n",
            "19   83  100       57       98     94\n",
            "20  100   95       56       98     85\n",
            "21   67   73       34       71     62\n",
            "22   70   87       32       95     58\n",
            "23   17   80        0       85      0\n",
            "24   97   97       44       95     68\n",
            "25   73   87       25       85     53\n",
            "26   80  100       46       98     81\n",
            "27   80   90       43       94     64\n",
            "28   80   93       48       94     77\n",
            "29   80  100       41       94     78\n",
            "30   80  100       47       94     81\n",
            "31   93   47       38       92     59\n"
          ]
        }
      ]
    },
    {
      "cell_type": "markdown",
      "source": [
        "## 2.3 Exploring DataFrames\n",
        "\n",
        " Example 7: using .head() function to print the first five rows of the data set"
      ],
      "metadata": {
        "id": "gWr95jlM4JYO"
      }
    },
    {
      "cell_type": "code",
      "source": [
        " import pandas as pd\n",
        " df = pd.read_csv('grades.csv')\n",
        " print(df.head())"
      ],
      "metadata": {
        "colab": {
          "base_uri": "https://localhost:8080/"
        },
        "id": "d2dr33LFA3zc",
        "outputId": "928b9923-005f-4054-9229-45d8ef419dc4"
      },
      "execution_count": null,
      "outputs": [
        {
          "output_type": "stream",
          "name": "stdout",
          "text": [
            "   HW1  HW2  Midterm  Project  Final\n",
            "0    0   78       32       87     71\n",
            "1    0   37       25       91     48\n",
            "2   63  100       34       92     59\n",
            "3   70   93       35       92     64\n",
            "4   50   75       20       76     42\n"
          ]
        }
      ]
    },
    {
      "cell_type": "markdown",
      "source": [
        " Example 8: using .tail() function to print the last five rows of the data set"
      ],
      "metadata": {
        "id": "0tyMIslb4QYL"
      }
    },
    {
      "cell_type": "code",
      "source": [
        " import pandas as pd\n",
        " df = pd.read_csv('grades.csv')\n",
        " print(df.tail())"
      ],
      "metadata": {
        "colab": {
          "base_uri": "https://localhost:8080/"
        },
        "id": "YymlM-d3A8zs",
        "outputId": "05da42e3-d942-40ef-a5cd-b5236d12f3a8"
      },
      "execution_count": null,
      "outputs": [
        {
          "output_type": "stream",
          "name": "stdout",
          "text": [
            "    HW1  HW2  Midterm  Project  Final\n",
            "27   80   90       43       94     64\n",
            "28   80   93       48       94     77\n",
            "29   80  100       41       94     78\n",
            "30   80  100       47       94     81\n",
            "31   93   47       38       92     59\n"
          ]
        }
      ]
    },
    {
      "cell_type": "markdown",
      "source": [
        " Example 9: printing the shape of the dataframe"
      ],
      "metadata": {
        "id": "mGMy0wY_4UAm"
      }
    },
    {
      "cell_type": "code",
      "source": [
        " import pandas as pd\n",
        " df = pd.read_csv('grades.csv')\n",
        " print(df.shape)"
      ],
      "metadata": {
        "colab": {
          "base_uri": "https://localhost:8080/"
        },
        "id": "ihdGcvGvBKtA",
        "outputId": "2b9b1a5d-7213-4d86-dde7-fea1da3d6f9c"
      },
      "execution_count": null,
      "outputs": [
        {
          "output_type": "stream",
          "name": "stdout",
          "text": [
            "(32, 5)\n"
          ]
        }
      ]
    },
    {
      "cell_type": "markdown",
      "source": [
        "Example 10: using .info() function"
      ],
      "metadata": {
        "id": "iBUTOfHj4WoC"
      }
    },
    {
      "cell_type": "code",
      "source": [
        " import pandas as pd\n",
        " df = pd.read_csv('grades.csv')\n",
        " print(df.info())"
      ],
      "metadata": {
        "colab": {
          "base_uri": "https://localhost:8080/"
        },
        "id": "Ris4wkiQBWVA",
        "outputId": "0983df54-aaf5-4e99-f7e6-9e4b6950d36f"
      },
      "execution_count": null,
      "outputs": [
        {
          "output_type": "stream",
          "name": "stdout",
          "text": [
            "<class 'pandas.core.frame.DataFrame'>\n",
            "RangeIndex: 32 entries, 0 to 31\n",
            "Data columns (total 5 columns):\n",
            " #   Column   Non-Null Count  Dtype\n",
            "---  ------   --------------  -----\n",
            " 0   HW1      32 non-null     int64\n",
            " 1   HW2      32 non-null     int64\n",
            " 2   Midterm  32 non-null     int64\n",
            " 3   Project  32 non-null     int64\n",
            " 4   Final    32 non-null     int64\n",
            "dtypes: int64(5)\n",
            "memory usage: 1.4 KB\n",
            "None\n"
          ]
        }
      ]
    },
    {
      "cell_type": "markdown",
      "source": [
        "### 2.4.1 Label-based Dataframe Indexing\n",
        "\n",
        " Example 11: printing the second column using the label indexing operator"
      ],
      "metadata": {
        "id": "J0F8Heyc4bzt"
      }
    },
    {
      "cell_type": "code",
      "source": [
        "import pandas as pd\n",
        "df = pd.DataFrame({'col_1': list(range(1,11)), 'col_2':\n",
        "                    list(range(11,21)), 'col_3': list(range(21,31)), 'col_4':\n",
        "                    list(range(31,41)), 'col_5': list(range(41,51)), 'col_6':\n",
        "                    list(range(51,61)), 'col_7': list(range(61,71)), 'col_8':\n",
        "                    list(range(71,81)), 'col_9': list(range(81,91))})\n",
        "print(df)"
      ],
      "metadata": {
        "id": "Z_NVVPuECF8c"
      },
      "execution_count": null,
      "outputs": []
    },
    {
      "cell_type": "markdown",
      "source": [
        " Example 12: selecting the values of the first row of the DataFrame using the loc\n",
        " indexer"
      ],
      "metadata": {
        "id": "nealbcrc4jmT"
      }
    },
    {
      "cell_type": "code",
      "source": [
        " print(df.columns)\n",
        " print(df.index)"
      ],
      "metadata": {
        "colab": {
          "base_uri": "https://localhost:8080/"
        },
        "id": "3EXgTv-vDpwc",
        "outputId": "40ba5d8d-10ce-462a-bbd7-35ee8f224b18"
      },
      "execution_count": null,
      "outputs": [
        {
          "output_type": "stream",
          "name": "stdout",
          "text": [
            "Index(['col_1', 'col_2', 'col_3', 'col_4', 'col_5', 'col_6', 'col_7', 'col_8',\n",
            "       'col_9'],\n",
            "      dtype='object')\n",
            "RangeIndex(start=0, stop=10, step=1)\n"
          ]
        }
      ]
    },
    {
      "cell_type": "code",
      "source": [
        " print(df['col_2'])"
      ],
      "metadata": {
        "colab": {
          "base_uri": "https://localhost:8080/"
        },
        "id": "reMeuDN7DvVz",
        "outputId": "8d165247-74f0-4f31-bc41-83230922094b"
      },
      "execution_count": null,
      "outputs": [
        {
          "output_type": "stream",
          "name": "stdout",
          "text": [
            "0    11\n",
            "1    12\n",
            "2    13\n",
            "3    14\n",
            "4    15\n",
            "5    16\n",
            "6    17\n",
            "7    18\n",
            "8    19\n",
            "9    20\n",
            "Name: col_2, dtype: int64\n"
          ]
        }
      ]
    },
    {
      "cell_type": "markdown",
      "source": [
        "in the code below, I don't have colomn #100 so i comment it."
      ],
      "metadata": {
        "id": "8qvtSciSEMkA"
      }
    },
    {
      "cell_type": "code",
      "source": [
        " print(df[['col_5', 'col_1', 'col_8']])\n",
        " #print(df[['col_5', 'col_1', 'col_8', 'col_100']])"
      ],
      "metadata": {
        "colab": {
          "base_uri": "https://localhost:8080/"
        },
        "id": "eVZ-alv9D0Uj",
        "outputId": "4deb2f03-b649-4e03-92b0-d8824c419794"
      },
      "execution_count": null,
      "outputs": [
        {
          "output_type": "stream",
          "name": "stdout",
          "text": [
            "   col_5  col_1  col_8\n",
            "0     41      1     71\n",
            "1     42      2     72\n",
            "2     43      3     73\n",
            "3     44      4     74\n",
            "4     45      5     75\n",
            "5     46      6     76\n",
            "6     47      7     77\n",
            "7     48      8     78\n",
            "8     49      9     79\n",
            "9     50     10     80\n"
          ]
        }
      ]
    },
    {
      "cell_type": "code",
      "source": [
        " print(df.loc[0])"
      ],
      "metadata": {
        "colab": {
          "base_uri": "https://localhost:8080/"
        },
        "id": "vySL_h57EDLT",
        "outputId": "0ff0fb97-e681-4094-a4c6-a92897c691f6"
      },
      "execution_count": null,
      "outputs": [
        {
          "output_type": "stream",
          "name": "stdout",
          "text": [
            "col_1     1\n",
            "col_2    11\n",
            "col_3    21\n",
            "col_4    31\n",
            "col_5    41\n",
            "col_6    51\n",
            "col_7    61\n",
            "col_8    71\n",
            "col_9    81\n",
            "Name: 0, dtype: int64\n"
          ]
        }
      ]
    },
    {
      "cell_type": "code",
      "source": [
        "df.index = ['row_1', 'row_2', 'row_3', 'row_4', 'row_5', 'row_6',\n",
        " 'row_7', 'row_8', 'row_9', 'row_10']"
      ],
      "metadata": {
        "id": "wSjOA9ipEG73"
      },
      "execution_count": null,
      "outputs": []
    },
    {
      "cell_type": "markdown",
      "source": [
        "in the code below, I don't have row #100 so i comment it."
      ],
      "metadata": {
        "id": "o_LWbN3KEjdv"
      }
    },
    {
      "cell_type": "code",
      "source": [
        " print(df.loc[['row_6', 'row_2', 'row_9']])\n",
        " #print(df.loc[['row_6', 'row_2', 'row_9', 'row_100']])\n",
        " print(df.loc['row_7':'row_9'])"
      ],
      "metadata": {
        "colab": {
          "base_uri": "https://localhost:8080/"
        },
        "id": "pzbaQyC1EcZf",
        "outputId": "544d3737-448f-4a4c-ba1d-83a2a094533a"
      },
      "execution_count": null,
      "outputs": [
        {
          "output_type": "stream",
          "name": "stdout",
          "text": [
            "       col_1  col_2  col_3  col_4  col_5  col_6  col_7  col_8  col_9\n",
            "row_6      6     16     26     36     46     56     66     76     86\n",
            "row_2      2     12     22     32     42     52     62     72     82\n",
            "row_9      9     19     29     39     49     59     69     79     89\n",
            "       col_1  col_2  col_3  col_4  col_5  col_6  col_7  col_8  col_9\n",
            "row_7      7     17     27     37     47     57     67     77     87\n",
            "row_8      8     18     28     38     48     58     68     78     88\n",
            "row_9      9     19     29     39     49     59     69     79     89\n"
          ]
        }
      ]
    },
    {
      "cell_type": "markdown",
      "source": [
        " CODE BELOW: **Task 1.1:** Print the first 4 rows using the slicing method"
      ],
      "metadata": {
        "id": "FszTLtzCFd4n"
      }
    },
    {
      "cell_type": "code",
      "source": [
        "print(df.loc[['row_1', 'row_2', 'row_3', 'row_4']])\n"
      ],
      "metadata": {
        "colab": {
          "base_uri": "https://localhost:8080/"
        },
        "id": "5bNwUmIXEnMv",
        "outputId": "7b3e4303-42fa-4cb5-880f-f8f09b423a15"
      },
      "execution_count": null,
      "outputs": [
        {
          "output_type": "stream",
          "name": "stdout",
          "text": [
            "       col_1  col_2  col_3  col_4  col_5  col_6  col_7  col_8  col_9\n",
            "row_1      1     11     21     31     41     51     61     71     81\n",
            "row_2      2     12     22     32     42     52     62     72     82\n",
            "row_3      3     13     23     33     43     53     63     73     83\n",
            "row_4      4     14     24     34     44     54     64     74     84\n"
          ]
        }
      ]
    },
    {
      "cell_type": "markdown",
      "source": [
        "CODE BELOW: **Task 1.2:** Print the last row with columns from col_5 to col_7\n",
        "df.index[-1] : the label of the last row in the DataFrame."
      ],
      "metadata": {
        "id": "7QYn5BJnFw8W"
      }
    },
    {
      "cell_type": "code",
      "source": [
        "print(df.loc[df.index[-1], 'col_5':'col_7'])\n"
      ],
      "metadata": {
        "colab": {
          "base_uri": "https://localhost:8080/"
        },
        "id": "LVNcJlYUFksS",
        "outputId": "c8d81b5b-7768-4fca-8a9b-cdd1cb32e2c2"
      },
      "execution_count": null,
      "outputs": [
        {
          "output_type": "stream",
          "name": "stdout",
          "text": [
            "col_5    50\n",
            "col_6    60\n",
            "col_7    70\n",
            "Name: row_10, dtype: int64\n"
          ]
        }
      ]
    },
    {
      "cell_type": "code",
      "source": [
        "df.at['row_6', 'col_3']"
      ],
      "metadata": {
        "colab": {
          "base_uri": "https://localhost:8080/"
        },
        "id": "I39z35SUF3o6",
        "outputId": "2d9f550e-ba0e-4443-f46a-f35ee7e50b19"
      },
      "execution_count": null,
      "outputs": [
        {
          "output_type": "execute_result",
          "data": {
            "text/plain": [
              "26"
            ]
          },
          "metadata": {},
          "execution_count": 52
        }
      ]
    },
    {
      "cell_type": "markdown",
      "source": [
        "### 2.4.2 Position-based Dataframe Indexing"
      ],
      "metadata": {
        "id": "_6OajS6e4tUX"
      }
    },
    {
      "cell_type": "code",
      "source": [
        " print(df[3:6])\n",
        " print(df.iloc[3])\n",
        " print(df.iloc[[9, 8, 7]])\n",
        " print(df.iloc[0, [2, 8, 3]])\n",
        " print(df.iat[1, 2])"
      ],
      "metadata": {
        "colab": {
          "base_uri": "https://localhost:8080/"
        },
        "id": "l6xdHsaaHh_m",
        "outputId": "892fa96a-88e8-41bc-c20f-572ea50b24ae"
      },
      "execution_count": null,
      "outputs": [
        {
          "output_type": "stream",
          "name": "stdout",
          "text": [
            "       col_1  col_2  col_3  col_4  col_5  col_6  col_7  col_8  col_9\n",
            "row_4      4     14     24     34     44     54     64     74     84\n",
            "row_5      5     15     25     35     45     55     65     75     85\n",
            "row_6      6     16     26     36     46     56     66     76     86\n",
            "col_1     4\n",
            "col_2    14\n",
            "col_3    24\n",
            "col_4    34\n",
            "col_5    44\n",
            "col_6    54\n",
            "col_7    64\n",
            "col_8    74\n",
            "col_9    84\n",
            "Name: row_4, dtype: int64\n",
            "        col_1  col_2  col_3  col_4  col_5  col_6  col_7  col_8  col_9\n",
            "row_10     10     20     30     40     50     60     70     80     90\n",
            "row_9       9     19     29     39     49     59     69     79     89\n",
            "row_8       8     18     28     38     48     58     68     78     88\n",
            "col_3    21\n",
            "col_9    81\n",
            "col_4    31\n",
            "Name: row_1, dtype: int64\n",
            "22\n"
          ]
        }
      ]
    },
    {
      "cell_type": "markdown",
      "source": [
        "CODE BELOW:**Task 1.3:** Use iloc with position-based indexing to select rows 8, and 1 and columns 5 to\n",
        " 9."
      ],
      "metadata": {
        "id": "CC9KD_rLHvpy"
      }
    },
    {
      "cell_type": "code",
      "source": [
        "print(df.iloc[[7, 0], 4:9])\n"
      ],
      "metadata": {
        "colab": {
          "base_uri": "https://localhost:8080/"
        },
        "id": "RARuaRfqHtte",
        "outputId": "936f288e-d711-451d-d3e5-bb8e3fe7f182"
      },
      "execution_count": null,
      "outputs": [
        {
          "output_type": "stream",
          "name": "stdout",
          "text": [
            "       col_5  col_6  col_7  col_8  col_9\n",
            "row_8     48     58     68     78     88\n",
            "row_1     41     51     61     71     81\n"
          ]
        }
      ]
    },
    {
      "cell_type": "markdown",
      "source": [
        "CODE BELOW: **Task 1.4**: Use iloc with position-based indexing to select all rows and columns 1, 3, and\n",
        " 7."
      ],
      "metadata": {
        "id": "HFGVX8QoI7N7"
      }
    },
    {
      "cell_type": "code",
      "source": [
        "# Select all rows and columns 1, 3, and 7 using iloc\n",
        "print(df.iloc[:, [1, 3, 7]])\n"
      ],
      "metadata": {
        "colab": {
          "base_uri": "https://localhost:8080/"
        },
        "id": "TfHeMgAtIt4G",
        "outputId": "0ea7060f-8edc-4cf5-b4ae-1873fd1ba276"
      },
      "execution_count": null,
      "outputs": [
        {
          "output_type": "stream",
          "name": "stdout",
          "text": [
            "        col_2  col_4  col_8\n",
            "row_1      11     31     71\n",
            "row_2      12     32     72\n",
            "row_3      13     33     73\n",
            "row_4      14     34     74\n",
            "row_5      15     35     75\n",
            "row_6      16     36     76\n",
            "row_7      17     37     77\n",
            "row_8      18     38     78\n",
            "row_9      19     39     79\n",
            "row_10     20     40     80\n"
          ]
        }
      ]
    },
    {
      "cell_type": "markdown",
      "source": [
        "CODE BELOW: **Task 1.5**:  Selecting all the rows of the dataframe where the value of col_2 is NOT\n",
        " greater than 15"
      ],
      "metadata": {
        "id": "nAZBkugjJ0Mb"
      }
    },
    {
      "cell_type": "code",
      "source": [
        "result = df.loc[df['col_2'] <= 15]\n",
        "print(result)\n"
      ],
      "metadata": {
        "colab": {
          "base_uri": "https://localhost:8080/"
        },
        "id": "xUhHR6oSJJ5K",
        "outputId": "4cedc3a7-1e00-4e8e-fa4a-a2486802237a"
      },
      "execution_count": null,
      "outputs": [
        {
          "output_type": "stream",
          "name": "stdout",
          "text": [
            "       col_1  col_2  col_3  col_4  col_5  col_6  col_7  col_8  col_9\n",
            "row_1      1     11     21     31     41     51     61     71     81\n",
            "row_2      2     12     22     32     42     52     62     72     82\n",
            "row_3      3     13     23     33     43     53     63     73     83\n",
            "row_4      4     14     24     34     44     54     64     74     84\n",
            "row_5      5     15     25     35     45     55     65     75     85\n"
          ]
        }
      ]
    },
    {
      "cell_type": "markdown",
      "source": [
        "CODE BELOW: **Task 1.6:** Selecting all the rows of the dataframe where the value of col_2 is greater\n",
        " than 15 but not equal to 19"
      ],
      "metadata": {
        "id": "pTZyyAQ0J5q-"
      }
    },
    {
      "cell_type": "code",
      "source": [
        "\n",
        "result = df.loc[(df['col_2'] > 15) & (df['col_2'] != 19)]\n",
        "print(result)\n"
      ],
      "metadata": {
        "colab": {
          "base_uri": "https://localhost:8080/"
        },
        "id": "8-Rwbej1J4_V",
        "outputId": "a8811407-a11a-4f84-eb39-87a4462a6ee0"
      },
      "execution_count": null,
      "outputs": [
        {
          "output_type": "stream",
          "name": "stdout",
          "text": [
            "        col_1  col_2  col_3  col_4  col_5  col_6  col_7  col_8  col_9\n",
            "row_6       6     16     26     36     46     56     66     76     86\n",
            "row_7       7     17     27     37     47     57     67     77     87\n",
            "row_8       8     18     28     38     48     58     68     78     88\n",
            "row_10     10     20     30     40     50     60     70     80     90\n"
          ]
        }
      ]
    },
    {
      "cell_type": "code",
      "source": [
        " import pandas as pd\n",
        " # Create a sample dataframe\n",
        " Biodata = {'Name': ['Ahmad', 'Ali', 'Omar', 'Hamzah'],\n",
        " 'Age': [28, 23, 35, 31],\n",
        " 'Gender': ['M', 'F', 'M', 'F']\n",
        " }\n",
        " df = pd.DataFrame(Biodata)\n",
        " # Save the dataframe to a CSV file\n",
        " df.to_csv('Biodata.csv', index=False)"
      ],
      "metadata": {
        "id": "QoKXvCDaKf9Y"
      },
      "execution_count": null,
      "outputs": []
    },
    {
      "cell_type": "markdown",
      "source": [
        " **Task 1.7**: Save the above dataframe using tab-separated values"
      ],
      "metadata": {
        "id": "FBaGb2F8K-TR"
      }
    },
    {
      "cell_type": "code",
      "source": [
        "\n",
        "df.to_csv('Biodata.tsv', sep='\\t', index=False)\n"
      ],
      "metadata": {
        "id": "_Kziaie0Krui"
      },
      "execution_count": null,
      "outputs": []
    },
    {
      "cell_type": "code",
      "source": [
        " import pandas as pd\n",
        " # Define a dictionary containing Students data\n",
        " data = {'Name': ['Ahmad', 'Ali', 'Omar', 'Hamzah'],\n",
        " 'Height': [5.1, 6.2, 5.1, 5.2],\n",
        " 'Qualification': ['Msc', 'MA', 'Msc', 'Msc']}\n",
        " # Convert the dictionary into DataFrame\n",
        " df = pd.DataFrame(data)\n",
        " print(df)\n",
        " # Declare a list that is to be converted into a column\n",
        " address = ['Nablus', 'Alquds', 'Gaza', 'Haifa']\n",
        " # Using 'Address' as the column name and equating it to the list\n",
        " df['Address'] = address\n",
        " # Observe the result\n",
        " print(df)"
      ],
      "metadata": {
        "colab": {
          "base_uri": "https://localhost:8080/"
        },
        "id": "gJdn0IyHLIfF",
        "outputId": "5d2b3ea4-1eda-497f-d871-013f930959e7"
      },
      "execution_count": null,
      "outputs": [
        {
          "output_type": "stream",
          "name": "stdout",
          "text": [
            "     Name  Height Qualification\n",
            "0   Ahmad     5.1           Msc\n",
            "1     Ali     6.2            MA\n",
            "2    Omar     5.1           Msc\n",
            "3  Hamzah     5.2           Msc\n",
            "     Name  Height Qualification Address\n",
            "0   Ahmad     5.1           Msc  Nablus\n",
            "1     Ali     6.2            MA  Alquds\n",
            "2    Omar     5.1           Msc    Gaza\n",
            "3  Hamzah     5.2           Msc   Haifa\n"
          ]
        }
      ]
    },
    {
      "cell_type": "markdown",
      "source": [
        "**Task 1.8:** Add a new column (on the dataframe above) named Age with the following\n",
        " values [21, 23, 24, 21] and make it the third column."
      ],
      "metadata": {
        "id": "9-M5QyMZMDql"
      }
    },
    {
      "cell_type": "code",
      "source": [
        "# Define the new 'Age' column\n",
        "new_age_values = [21, 23, 24, 21]\n",
        "\n",
        "# Insert the new column into the DataFrame at the desired position\n",
        "df.insert(loc=2, column='Age', value=new_age_values)\n",
        "\n",
        "# Print the modified DataFrame\n",
        "print(df)\n"
      ],
      "metadata": {
        "colab": {
          "base_uri": "https://localhost:8080/"
        },
        "id": "lQgK55-LMA61",
        "outputId": "257bf580-a20a-4318-fa29-88f84fabd6c3"
      },
      "execution_count": null,
      "outputs": [
        {
          "output_type": "stream",
          "name": "stdout",
          "text": [
            "     Name  Height  Age Qualification Address\n",
            "0   Ahmad     5.1   21           Msc  Nablus\n",
            "1     Ali     6.2   23            MA  Alquds\n",
            "2    Omar     5.1   24           Msc    Gaza\n",
            "3  Hamzah     5.2   21           Msc   Haifa\n"
          ]
        }
      ]
    },
    {
      "cell_type": "code",
      "source": [
        " import pandas as pd\n",
        " # Define a dictionary containing Students data\n",
        " data = {'Name': ['Ahmad', 'Ali', 'Omar', 'Hamzah'],\n",
        "'Height': [5.1, 6.2, 5.1, 5.2],\n",
        " 'Qualification': ['Msc', 'MA', 'Msc', 'Msc'],\n",
        " 'Age': [21, 23, 24, 21]}\n",
        " # Convert the dictionary into DataFrame\n",
        " df = pd.DataFrame(data)\n",
        " print(df)\n",
        " # dropping passed columns\n",
        " df1 = df.drop([\"Height\"], axis = 1)\n",
        " # Observe the result\n",
        " print(df)\n",
        " print(df1)"
      ],
      "metadata": {
        "colab": {
          "base_uri": "https://localhost:8080/"
        },
        "id": "P67MPBeCMJfd",
        "outputId": "a4bb26bd-d00a-45eb-8fbe-17c2ace0d97f"
      },
      "execution_count": null,
      "outputs": [
        {
          "output_type": "stream",
          "name": "stdout",
          "text": [
            "     Name  Height Qualification  Age\n",
            "0   Ahmad     5.1           Msc   21\n",
            "1     Ali     6.2            MA   23\n",
            "2    Omar     5.1           Msc   24\n",
            "3  Hamzah     5.2           Msc   21\n",
            "     Name  Height Qualification  Age\n",
            "0   Ahmad     5.1           Msc   21\n",
            "1     Ali     6.2            MA   23\n",
            "2    Omar     5.1           Msc   24\n",
            "3  Hamzah     5.2           Msc   21\n",
            "     Name Qualification  Age\n",
            "0   Ahmad           Msc   21\n",
            "1     Ali            MA   23\n",
            "2    Omar           Msc   24\n",
            "3  Hamzah           Msc   21\n"
          ]
        }
      ]
    },
    {
      "cell_type": "markdown",
      "source": [
        " **Task 1.9:** Remove column Height and column Age from the existing referring\n",
        " dataframe."
      ],
      "metadata": {
        "id": "EWxvkG9pMTFF"
      }
    },
    {
      "cell_type": "code",
      "source": [
        "# Remove the \"Height\" and \"Age\" columns from the DataFrame\n",
        "df = df.drop(columns=['Height', 'Age'])\n",
        "\n",
        "print(df)\n"
      ],
      "metadata": {
        "colab": {
          "base_uri": "https://localhost:8080/"
        },
        "id": "oMClYEhuMWIt",
        "outputId": "b5f32e17-8a24-467c-a059-b82ce8f9b259"
      },
      "execution_count": null,
      "outputs": [
        {
          "output_type": "stream",
          "name": "stdout",
          "text": [
            "     Name Qualification\n",
            "0   Ahmad           Msc\n",
            "1     Ali            MA\n",
            "2    Omar           Msc\n",
            "3  Hamzah           Msc\n"
          ]
        }
      ]
    },
    {
      "cell_type": "code",
      "source": [
        " import pandas as pd\n",
        " technologies= {\n",
        " 'Courses':[\"Spark\",\"PySpark\",\"Hadoop\",\"Python\",\"Pandas\"],\n",
        " 'Fee' :[22000,25000,23000,24000,26000],\n",
        " 'Duration':['30days','50days','35days', '40days','55days'],\n",
        " 'Discount':[1000,2300,1000,1200,2500]\n",
        " }\n",
        " df = pd.DataFrame(technologies)\n",
        " print(df)\n",
        " # New list to append Row to DataFrame\n",
        "list = [\"Hyperion\", 27000, \"60days\", 2000]\n",
        " df.loc[len(df)] = list\n",
        " print(df)"
      ],
      "metadata": {
        "colab": {
          "base_uri": "https://localhost:8080/"
        },
        "id": "1ua_EXbOMiVd",
        "outputId": "aacc1d89-18ab-4bcc-a26a-ba93c2da8f6f"
      },
      "execution_count": null,
      "outputs": [
        {
          "output_type": "stream",
          "name": "stdout",
          "text": [
            "   Courses    Fee Duration  Discount\n",
            "0    Spark  22000   30days      1000\n",
            "1  PySpark  25000   50days      2300\n",
            "2   Hadoop  23000   35days      1000\n",
            "3   Python  24000   40days      1200\n",
            "4   Pandas  26000   55days      2500\n",
            "    Courses    Fee Duration  Discount\n",
            "0     Spark  22000   30days      1000\n",
            "1   PySpark  25000   50days      2300\n",
            "2    Hadoop  23000   35days      1000\n",
            "3    Python  24000   40days      1200\n",
            "4    Pandas  26000   55days      2500\n",
            "5  Hyperion  27000   60days      2000\n"
          ]
        }
      ]
    },
    {
      "cell_type": "markdown",
      "source": [
        " **Task 1.10**: use .iloc to insert the new row above into the second position of the\n",
        " DataFrame."
      ],
      "metadata": {
        "id": "UAS4QGxfMtBZ"
      }
    },
    {
      "cell_type": "code",
      "source": [
        "# New row data\n",
        "new_row = [\"Hyperion\", 27000, \"60days\", 2000]\n",
        "\n",
        "# Use iloc to insert the new row into the second position of the DataFrame\n",
        "df = df.iloc[:1].append(pd.Series(new_row, index=df.columns), ignore_index=True).append(df.iloc[1:], ignore_index=True)\n",
        "\n",
        "# Print the updated DataFrame\n",
        "print(df)"
      ],
      "metadata": {
        "colab": {
          "base_uri": "https://localhost:8080/"
        },
        "id": "RikvobqbNNLO",
        "outputId": "5932035d-3042-453e-de14-6e7244a9a6a3"
      },
      "execution_count": null,
      "outputs": [
        {
          "output_type": "stream",
          "name": "stdout",
          "text": [
            "    Courses    Fee Duration  Discount\n",
            "0     Spark  22000   30days      1000\n",
            "1  Hyperion  27000   60days      2000\n",
            "2   PySpark  25000   50days      2300\n",
            "3    Hadoop  23000   35days      1000\n",
            "4    Python  24000   40days      1200\n",
            "5    Pandas  26000   55days      2500\n",
            "6  Hyperion  27000   60days      2000\n"
          ]
        },
        {
          "output_type": "stream",
          "name": "stderr",
          "text": [
            "<ipython-input-83-09702e545082>:5: FutureWarning: The frame.append method is deprecated and will be removed from pandas in a future version. Use pandas.concat instead.\n",
            "  df = df.iloc[:1].append(pd.Series(new_row, index=df.columns), ignore_index=True).append(df.iloc[1:], ignore_index=True)\n",
            "<ipython-input-83-09702e545082>:5: FutureWarning: The frame.append method is deprecated and will be removed from pandas in a future version. Use pandas.concat instead.\n",
            "  df = df.iloc[:1].append(pd.Series(new_row, index=df.columns), ignore_index=True).append(df.iloc[1:], ignore_index=True)\n"
          ]
        }
      ]
    },
    {
      "cell_type": "code",
      "source": [
        " import pandas as pd\n",
        " import numpy as np\n",
        " technologies = {\n",
        " 'Courses':[\"Spark\",\"PySpark\",\"Hadoop\",\"Python\"],\n",
        " 'Fee' :[20000,25000,26000,22000],\n",
        " 'Duration':['30day','40days',np.nan, None],\n",
        " 'Discount':[1000,2300,1500,1200]\n",
        " }\n",
        " indexes=['r1','r2','r3','r4']\n",
        " df = pd.DataFrame(technologies,index=indexes)\n",
        " print(df)"
      ],
      "metadata": {
        "colab": {
          "base_uri": "https://localhost:8080/"
        },
        "id": "iifdeXoJOROx",
        "outputId": "f24b3814-9c9e-4c71-81cc-e051463d53ff"
      },
      "execution_count": null,
      "outputs": [
        {
          "output_type": "stream",
          "name": "stdout",
          "text": [
            "    Courses    Fee Duration  Discount\n",
            "r1    Spark  20000    30day      1000\n",
            "r2  PySpark  25000   40days      2300\n",
            "r3   Hadoop  26000      NaN      1500\n",
            "r4   Python  22000     None      1200\n"
          ]
        }
      ]
    },
    {
      "cell_type": "code",
      "source": [
        " df1 = df.drop(['r1','r2'])\n",
        " print(df1)"
      ],
      "metadata": {
        "colab": {
          "base_uri": "https://localhost:8080/"
        },
        "id": "SCX6OoNfOT0j",
        "outputId": "e8d0b430-e3d2-404d-b710-ae0459cd1692"
      },
      "execution_count": null,
      "outputs": [
        {
          "output_type": "stream",
          "name": "stdout",
          "text": [
            "   Courses    Fee Duration  Discount\n",
            "r3  Hadoop  26000      NaN      1500\n",
            "r4  Python  22000     None      1200\n"
          ]
        }
      ]
    },
    {
      "cell_type": "code",
      "source": [
        "df1 = df.drop(index=['r1','r2'])\n",
        "print(df1)"
      ],
      "metadata": {
        "colab": {
          "base_uri": "https://localhost:8080/"
        },
        "id": "pGa3mtfHOcax",
        "outputId": "450a2142-5821-45c7-8caa-5dc00b5901c5"
      },
      "execution_count": null,
      "outputs": [
        {
          "output_type": "stream",
          "name": "stdout",
          "text": [
            "   Courses    Fee Duration  Discount\n",
            "r3  Hadoop  26000      NaN      1500\n",
            "r4  Python  22000     None      1200\n"
          ]
        }
      ]
    },
    {
      "cell_type": "code",
      "source": [
        " df1=df.drop(df.index[[1,3]])\n",
        " print(df1)"
      ],
      "metadata": {
        "colab": {
          "base_uri": "https://localhost:8080/"
        },
        "id": "sC5ynoxtOhCA",
        "outputId": "4f1ca38b-aaaf-42b8-de30-2bb603305e4f"
      },
      "execution_count": null,
      "outputs": [
        {
          "output_type": "stream",
          "name": "stdout",
          "text": [
            "   Courses    Fee Duration  Discount\n",
            "r1   Spark  20000    30day      1000\n",
            "r3  Hadoop  26000      NaN      1500\n"
          ]
        }
      ]
    },
    {
      "cell_type": "code",
      "source": [
        "df=df.drop(df.index[0])"
      ],
      "metadata": {
        "id": "FVtOtA_7Okur"
      },
      "execution_count": null,
      "outputs": []
    },
    {
      "cell_type": "code",
      "source": [
        " df=df.drop(df.index[-1])"
      ],
      "metadata": {
        "id": "mStnNcCgOn4a"
      },
      "execution_count": null,
      "outputs": []
    },
    {
      "cell_type": "code",
      "source": [
        " df1=df.drop(df.index[2:])\n",
        " print(df1)"
      ],
      "metadata": {
        "colab": {
          "base_uri": "https://localhost:8080/"
        },
        "id": "HuSMKfWHOp81",
        "outputId": "df7d4eff-ab53-4712-d4ac-21a7de70f465"
      },
      "execution_count": null,
      "outputs": [
        {
          "output_type": "stream",
          "name": "stdout",
          "text": [
            "    Courses    Fee Duration  Discount\n",
            "r2  PySpark  25000   40days      2300\n",
            "r3   Hadoop  26000      NaN      1500\n"
          ]
        }
      ]
    },
    {
      "cell_type": "code",
      "source": [
        " df = pd.DataFrame(technologies)\n",
        " df1 = df.drop(0)\n",
        " df3 = df.drop([0, 3])\n",
        " df4 = df.drop(range(0,2))"
      ],
      "metadata": {
        "id": "jaQNuUP4Osge"
      },
      "execution_count": null,
      "outputs": []
    },
    {
      "cell_type": "code",
      "source": [
        " df.drop(df[df['Fee'] >= 24000].index, inplace = True)"
      ],
      "metadata": {
        "id": "chWDJcvrOvRd"
      },
      "execution_count": null,
      "outputs": []
    },
    {
      "cell_type": "code",
      "source": [
        " df2 = df[df.Fee >= 24000]"
      ],
      "metadata": {
        "id": "YNKYhzUQOx1w"
      },
      "execution_count": null,
      "outputs": []
    },
    {
      "cell_type": "code",
      "source": [
        " df2 = df.loc[df[\"Fee\"] >= 24000]"
      ],
      "metadata": {
        "id": "gZk-7IY8O258"
      },
      "execution_count": null,
      "outputs": []
    },
    {
      "cell_type": "markdown",
      "source": [
        " Task 1.11: delete all rows with Fee >= 2200 and Discount == 2300. Save the result in a\n",
        " f\n",
        " ile named task.csv"
      ],
      "metadata": {
        "id": "nS6bp8cjPMib"
      }
    },
    {
      "cell_type": "code",
      "source": [
        "df.drop(df[(df['Fee'] >= 2200) & (df['Discount'] == 2300)].index, inplace=True)\n",
        "df.to_csv('task.csv', index=False)"
      ],
      "metadata": {
        "id": "XYYtacexPIxh"
      },
      "execution_count": null,
      "outputs": []
    },
    {
      "cell_type": "markdown",
      "source": [
        " Task 1.12: Write a code to delete all rows with a Non/NaN value."
      ],
      "metadata": {
        "id": "l7ZARj-kPYVn"
      }
    },
    {
      "cell_type": "code",
      "source": [
        "df.dropna(inplace=True)\n",
        "print(df)\n"
      ],
      "metadata": {
        "colab": {
          "base_uri": "https://localhost:8080/"
        },
        "id": "9VwPbdQKPZ9A",
        "outputId": "7160d6ed-e3af-4ac4-995b-a780f4a741a5"
      },
      "execution_count": null,
      "outputs": [
        {
          "output_type": "stream",
          "name": "stdout",
          "text": [
            "  Courses    Fee Duration  Discount\n",
            "0   Spark  20000    30day      1000\n"
          ]
        }
      ]
    },
    {
      "cell_type": "markdown",
      "source": [
        " Task 1.13: Write a code to delete all rows having courses equal to Spark or Hadoop."
      ],
      "metadata": {
        "id": "K6sXFrdlPu__"
      }
    },
    {
      "cell_type": "code",
      "source": [
        "df = df.drop(df[(df['Courses'] == 'Spark') | (df['Courses'] == 'Hadoop')].index, inplace=True)\n",
        "print(df)"
      ],
      "metadata": {
        "colab": {
          "base_uri": "https://localhost:8080/"
        },
        "id": "gCRQgYFsPtQk",
        "outputId": "488544c9-084f-48a0-fec7-c956d772ea53"
      },
      "execution_count": null,
      "outputs": [
        {
          "output_type": "stream",
          "name": "stdout",
          "text": [
            "None\n"
          ]
        }
      ]
    },
    {
      "cell_type": "code",
      "source": [
        " import pandas as pd\n",
        " # Create two sample DataFrames\n",
        " df1 = pd.DataFrame({'A': ['A0', 'A1', 'A2', 'A3'],\n",
        " 'B': ['B0', 'B1', 'B2', 'B3'],\n",
        " 'C': ['C0', 'C1', 'C2', 'C3'],\n",
        " 'D': ['D0', 'D1', 'D2', 'D3']})\n",
        " df2 = pd.DataFrame({'A': ['A4', 'A5', 'A6', 'A7'],\n",
        " 'B': ['B4', 'B5', 'B6', 'B7'],\n",
        " 'C': ['C4', 'C5', 'C6', 'C7'],\n",
        " 'D': ['D4', 'D5', 'D6', 'D7']})\n",
        " # Concatenate the DataFrames vertically\n",
        " result = pd.concat([df1, df2])\n",
        " print(result)"
      ],
      "metadata": {
        "colab": {
          "base_uri": "https://localhost:8080/"
        },
        "id": "WyaNmfs-P506",
        "outputId": "dfe63ece-53af-4b88-8086-90c741697c34"
      },
      "execution_count": null,
      "outputs": [
        {
          "output_type": "stream",
          "name": "stdout",
          "text": [
            "    A   B   C   D\n",
            "0  A0  B0  C0  D0\n",
            "1  A1  B1  C1  D1\n",
            "2  A2  B2  C2  D2\n",
            "3  A3  B3  C3  D3\n",
            "0  A4  B4  C4  D4\n",
            "1  A5  B5  C5  D5\n",
            "2  A6  B6  C6  D6\n",
            "3  A7  B7  C7  D7\n"
          ]
        }
      ]
    },
    {
      "cell_type": "markdown",
      "source": [
        " Task 1.14: Perform the concatenation in the above example along columns."
      ],
      "metadata": {
        "id": "lFkFH2ZbRFYo"
      }
    },
    {
      "cell_type": "code",
      "source": [
        "result = pd.concat([df1, df2], axis=1)\n",
        "print(result)"
      ],
      "metadata": {
        "colab": {
          "base_uri": "https://localhost:8080/"
        },
        "id": "Mp1IxrcGRIM0",
        "outputId": "3649bf41-d1e9-4796-c7de-e55aa3eae6fa"
      },
      "execution_count": null,
      "outputs": [
        {
          "output_type": "stream",
          "name": "stdout",
          "text": [
            "    A   B   C   D   A   B   C   D\n",
            "0  A0  B0  C0  D0  A4  B4  C4  D4\n",
            "1  A1  B1  C1  D1  A5  B5  C5  D5\n",
            "2  A2  B2  C2  D2  A6  B6  C6  D6\n",
            "3  A3  B3  C3  D3  A7  B7  C7  D7\n"
          ]
        }
      ]
    },
    {
      "cell_type": "code",
      "source": [
        "import pandas as pd\n",
        "\n",
        "# Creating DataFrame df1\n",
        "df1 = pd.DataFrame({\n",
        "    'id': [1, 4, 3, 4],\n",
        "    'data1': ['A', 'B', 'C', 'D']\n",
        "})\n",
        "\n",
        "# Creating DataFrame df2 with common 'id' data\n",
        "df2 = pd.DataFrame({\n",
        "    'id': [3, 4, 5, 6],\n",
        "    'data2': ['X', 'Y', 'Z', 'W']\n",
        "})\n",
        "\n",
        "print(\"DataFrame 1:\")\n",
        "print(df1)\n",
        "print(\"\\nDataFrame 2:\")\n",
        "print(df2)\n"
      ],
      "metadata": {
        "colab": {
          "base_uri": "https://localhost:8080/"
        },
        "id": "DvB_nYm6TymV",
        "outputId": "046c994d-70ef-4e89-c194-ad7088ffdd72"
      },
      "execution_count": null,
      "outputs": [
        {
          "output_type": "stream",
          "name": "stdout",
          "text": [
            "DataFrame 1:\n",
            "   id data1\n",
            "0   1     A\n",
            "1   4     B\n",
            "2   3     C\n",
            "3   4     D\n",
            "\n",
            "DataFrame 2:\n",
            "   id data2\n",
            "0   3     X\n",
            "1   4     Y\n",
            "2   5     Z\n",
            "3   6     W\n"
          ]
        }
      ]
    },
    {
      "cell_type": "code",
      "source": [
        "df = pd.merge(df1, df2, on='id')\n",
        "print(df)"
      ],
      "metadata": {
        "colab": {
          "base_uri": "https://localhost:8080/"
        },
        "id": "I4JBJLkhT1En",
        "outputId": "784b40ca-2e6d-4b15-aeca-e3074b06cf81"
      },
      "execution_count": null,
      "outputs": [
        {
          "output_type": "stream",
          "name": "stdout",
          "text": [
            "   id data1 data2\n",
            "0   4     B     Y\n",
            "1   4     D     Y\n",
            "2   3     C     X\n"
          ]
        }
      ]
    },
    {
      "cell_type": "code",
      "source": [
        "df1.merge(df2,on='id',\n",
        " how='left')"
      ],
      "metadata": {
        "colab": {
          "base_uri": "https://localhost:8080/",
          "height": 175
        },
        "id": "5bQIaCOCULqx",
        "outputId": "46ea32da-428c-4c02-aef6-7c1cd0e134e3"
      },
      "execution_count": null,
      "outputs": [
        {
          "output_type": "execute_result",
          "data": {
            "text/plain": [
              "   id data1 data2\n",
              "0   1     A   NaN\n",
              "1   4     B     Y\n",
              "2   3     C     X\n",
              "3   4     D     Y"
            ],
            "text/html": [
              "\n",
              "  <div id=\"df-b18c6a24-727e-458e-9352-de096bf40ed8\" class=\"colab-df-container\">\n",
              "    <div>\n",
              "<style scoped>\n",
              "    .dataframe tbody tr th:only-of-type {\n",
              "        vertical-align: middle;\n",
              "    }\n",
              "\n",
              "    .dataframe tbody tr th {\n",
              "        vertical-align: top;\n",
              "    }\n",
              "\n",
              "    .dataframe thead th {\n",
              "        text-align: right;\n",
              "    }\n",
              "</style>\n",
              "<table border=\"1\" class=\"dataframe\">\n",
              "  <thead>\n",
              "    <tr style=\"text-align: right;\">\n",
              "      <th></th>\n",
              "      <th>id</th>\n",
              "      <th>data1</th>\n",
              "      <th>data2</th>\n",
              "    </tr>\n",
              "  </thead>\n",
              "  <tbody>\n",
              "    <tr>\n",
              "      <th>0</th>\n",
              "      <td>1</td>\n",
              "      <td>A</td>\n",
              "      <td>NaN</td>\n",
              "    </tr>\n",
              "    <tr>\n",
              "      <th>1</th>\n",
              "      <td>4</td>\n",
              "      <td>B</td>\n",
              "      <td>Y</td>\n",
              "    </tr>\n",
              "    <tr>\n",
              "      <th>2</th>\n",
              "      <td>3</td>\n",
              "      <td>C</td>\n",
              "      <td>X</td>\n",
              "    </tr>\n",
              "    <tr>\n",
              "      <th>3</th>\n",
              "      <td>4</td>\n",
              "      <td>D</td>\n",
              "      <td>Y</td>\n",
              "    </tr>\n",
              "  </tbody>\n",
              "</table>\n",
              "</div>\n",
              "    <div class=\"colab-df-buttons\">\n",
              "\n",
              "  <div class=\"colab-df-container\">\n",
              "    <button class=\"colab-df-convert\" onclick=\"convertToInteractive('df-b18c6a24-727e-458e-9352-de096bf40ed8')\"\n",
              "            title=\"Convert this dataframe to an interactive table.\"\n",
              "            style=\"display:none;\">\n",
              "\n",
              "  <svg xmlns=\"http://www.w3.org/2000/svg\" height=\"24px\" viewBox=\"0 -960 960 960\">\n",
              "    <path d=\"M120-120v-720h720v720H120Zm60-500h600v-160H180v160Zm220 220h160v-160H400v160Zm0 220h160v-160H400v160ZM180-400h160v-160H180v160Zm440 0h160v-160H620v160ZM180-180h160v-160H180v160Zm440 0h160v-160H620v160Z\"/>\n",
              "  </svg>\n",
              "    </button>\n",
              "\n",
              "  <style>\n",
              "    .colab-df-container {\n",
              "      display:flex;\n",
              "      gap: 12px;\n",
              "    }\n",
              "\n",
              "    .colab-df-convert {\n",
              "      background-color: #E8F0FE;\n",
              "      border: none;\n",
              "      border-radius: 50%;\n",
              "      cursor: pointer;\n",
              "      display: none;\n",
              "      fill: #1967D2;\n",
              "      height: 32px;\n",
              "      padding: 0 0 0 0;\n",
              "      width: 32px;\n",
              "    }\n",
              "\n",
              "    .colab-df-convert:hover {\n",
              "      background-color: #E2EBFA;\n",
              "      box-shadow: 0px 1px 2px rgba(60, 64, 67, 0.3), 0px 1px 3px 1px rgba(60, 64, 67, 0.15);\n",
              "      fill: #174EA6;\n",
              "    }\n",
              "\n",
              "    .colab-df-buttons div {\n",
              "      margin-bottom: 4px;\n",
              "    }\n",
              "\n",
              "    [theme=dark] .colab-df-convert {\n",
              "      background-color: #3B4455;\n",
              "      fill: #D2E3FC;\n",
              "    }\n",
              "\n",
              "    [theme=dark] .colab-df-convert:hover {\n",
              "      background-color: #434B5C;\n",
              "      box-shadow: 0px 1px 3px 1px rgba(0, 0, 0, 0.15);\n",
              "      filter: drop-shadow(0px 1px 2px rgba(0, 0, 0, 0.3));\n",
              "      fill: #FFFFFF;\n",
              "    }\n",
              "  </style>\n",
              "\n",
              "    <script>\n",
              "      const buttonEl =\n",
              "        document.querySelector('#df-b18c6a24-727e-458e-9352-de096bf40ed8 button.colab-df-convert');\n",
              "      buttonEl.style.display =\n",
              "        google.colab.kernel.accessAllowed ? 'block' : 'none';\n",
              "\n",
              "      async function convertToInteractive(key) {\n",
              "        const element = document.querySelector('#df-b18c6a24-727e-458e-9352-de096bf40ed8');\n",
              "        const dataTable =\n",
              "          await google.colab.kernel.invokeFunction('convertToInteractive',\n",
              "                                                    [key], {});\n",
              "        if (!dataTable) return;\n",
              "\n",
              "        const docLinkHtml = 'Like what you see? Visit the ' +\n",
              "          '<a target=\"_blank\" href=https://colab.research.google.com/notebooks/data_table.ipynb>data table notebook</a>'\n",
              "          + ' to learn more about interactive tables.';\n",
              "        element.innerHTML = '';\n",
              "        dataTable['output_type'] = 'display_data';\n",
              "        await google.colab.output.renderOutput(dataTable, element);\n",
              "        const docLink = document.createElement('div');\n",
              "        docLink.innerHTML = docLinkHtml;\n",
              "        element.appendChild(docLink);\n",
              "      }\n",
              "    </script>\n",
              "  </div>\n",
              "\n",
              "\n",
              "<div id=\"df-909dff20-7dbd-494e-a532-38fdc3fe7400\">\n",
              "  <button class=\"colab-df-quickchart\" onclick=\"quickchart('df-909dff20-7dbd-494e-a532-38fdc3fe7400')\"\n",
              "            title=\"Suggest charts\"\n",
              "            style=\"display:none;\">\n",
              "\n",
              "<svg xmlns=\"http://www.w3.org/2000/svg\" height=\"24px\"viewBox=\"0 0 24 24\"\n",
              "     width=\"24px\">\n",
              "    <g>\n",
              "        <path d=\"M19 3H5c-1.1 0-2 .9-2 2v14c0 1.1.9 2 2 2h14c1.1 0 2-.9 2-2V5c0-1.1-.9-2-2-2zM9 17H7v-7h2v7zm4 0h-2V7h2v10zm4 0h-2v-4h2v4z\"/>\n",
              "    </g>\n",
              "</svg>\n",
              "  </button>\n",
              "\n",
              "<style>\n",
              "  .colab-df-quickchart {\n",
              "      --bg-color: #E8F0FE;\n",
              "      --fill-color: #1967D2;\n",
              "      --hover-bg-color: #E2EBFA;\n",
              "      --hover-fill-color: #174EA6;\n",
              "      --disabled-fill-color: #AAA;\n",
              "      --disabled-bg-color: #DDD;\n",
              "  }\n",
              "\n",
              "  [theme=dark] .colab-df-quickchart {\n",
              "      --bg-color: #3B4455;\n",
              "      --fill-color: #D2E3FC;\n",
              "      --hover-bg-color: #434B5C;\n",
              "      --hover-fill-color: #FFFFFF;\n",
              "      --disabled-bg-color: #3B4455;\n",
              "      --disabled-fill-color: #666;\n",
              "  }\n",
              "\n",
              "  .colab-df-quickchart {\n",
              "    background-color: var(--bg-color);\n",
              "    border: none;\n",
              "    border-radius: 50%;\n",
              "    cursor: pointer;\n",
              "    display: none;\n",
              "    fill: var(--fill-color);\n",
              "    height: 32px;\n",
              "    padding: 0;\n",
              "    width: 32px;\n",
              "  }\n",
              "\n",
              "  .colab-df-quickchart:hover {\n",
              "    background-color: var(--hover-bg-color);\n",
              "    box-shadow: 0 1px 2px rgba(60, 64, 67, 0.3), 0 1px 3px 1px rgba(60, 64, 67, 0.15);\n",
              "    fill: var(--button-hover-fill-color);\n",
              "  }\n",
              "\n",
              "  .colab-df-quickchart-complete:disabled,\n",
              "  .colab-df-quickchart-complete:disabled:hover {\n",
              "    background-color: var(--disabled-bg-color);\n",
              "    fill: var(--disabled-fill-color);\n",
              "    box-shadow: none;\n",
              "  }\n",
              "\n",
              "  .colab-df-spinner {\n",
              "    border: 2px solid var(--fill-color);\n",
              "    border-color: transparent;\n",
              "    border-bottom-color: var(--fill-color);\n",
              "    animation:\n",
              "      spin 1s steps(1) infinite;\n",
              "  }\n",
              "\n",
              "  @keyframes spin {\n",
              "    0% {\n",
              "      border-color: transparent;\n",
              "      border-bottom-color: var(--fill-color);\n",
              "      border-left-color: var(--fill-color);\n",
              "    }\n",
              "    20% {\n",
              "      border-color: transparent;\n",
              "      border-left-color: var(--fill-color);\n",
              "      border-top-color: var(--fill-color);\n",
              "    }\n",
              "    30% {\n",
              "      border-color: transparent;\n",
              "      border-left-color: var(--fill-color);\n",
              "      border-top-color: var(--fill-color);\n",
              "      border-right-color: var(--fill-color);\n",
              "    }\n",
              "    40% {\n",
              "      border-color: transparent;\n",
              "      border-right-color: var(--fill-color);\n",
              "      border-top-color: var(--fill-color);\n",
              "    }\n",
              "    60% {\n",
              "      border-color: transparent;\n",
              "      border-right-color: var(--fill-color);\n",
              "    }\n",
              "    80% {\n",
              "      border-color: transparent;\n",
              "      border-right-color: var(--fill-color);\n",
              "      border-bottom-color: var(--fill-color);\n",
              "    }\n",
              "    90% {\n",
              "      border-color: transparent;\n",
              "      border-bottom-color: var(--fill-color);\n",
              "    }\n",
              "  }\n",
              "</style>\n",
              "\n",
              "  <script>\n",
              "    async function quickchart(key) {\n",
              "      const quickchartButtonEl =\n",
              "        document.querySelector('#' + key + ' button');\n",
              "      quickchartButtonEl.disabled = true;  // To prevent multiple clicks.\n",
              "      quickchartButtonEl.classList.add('colab-df-spinner');\n",
              "      try {\n",
              "        const charts = await google.colab.kernel.invokeFunction(\n",
              "            'suggestCharts', [key], {});\n",
              "      } catch (error) {\n",
              "        console.error('Error during call to suggestCharts:', error);\n",
              "      }\n",
              "      quickchartButtonEl.classList.remove('colab-df-spinner');\n",
              "      quickchartButtonEl.classList.add('colab-df-quickchart-complete');\n",
              "    }\n",
              "    (() => {\n",
              "      let quickchartButtonEl =\n",
              "        document.querySelector('#df-909dff20-7dbd-494e-a532-38fdc3fe7400 button');\n",
              "      quickchartButtonEl.style.display =\n",
              "        google.colab.kernel.accessAllowed ? 'block' : 'none';\n",
              "    })();\n",
              "  </script>\n",
              "</div>\n",
              "\n",
              "    </div>\n",
              "  </div>\n"
            ],
            "application/vnd.google.colaboratory.intrinsic+json": {
              "type": "dataframe",
              "summary": "{\n  \"name\": \" how='left')\",\n  \"rows\": 4,\n  \"fields\": [\n    {\n      \"column\": \"id\",\n      \"properties\": {\n        \"dtype\": \"number\",\n        \"std\": 1,\n        \"min\": 1,\n        \"max\": 4,\n        \"num_unique_values\": 3,\n        \"samples\": [\n          1,\n          4,\n          3\n        ],\n        \"semantic_type\": \"\",\n        \"description\": \"\"\n      }\n    },\n    {\n      \"column\": \"data1\",\n      \"properties\": {\n        \"dtype\": \"string\",\n        \"num_unique_values\": 4,\n        \"samples\": [\n          \"B\",\n          \"D\",\n          \"A\"\n        ],\n        \"semantic_type\": \"\",\n        \"description\": \"\"\n      }\n    },\n    {\n      \"column\": \"data2\",\n      \"properties\": {\n        \"dtype\": \"string\",\n        \"num_unique_values\": 2,\n        \"samples\": [\n          \"X\",\n          \"Y\"\n        ],\n        \"semantic_type\": \"\",\n        \"description\": \"\"\n      }\n    }\n  ]\n}"
            }
          },
          "metadata": {},
          "execution_count": 141
        }
      ]
    },
    {
      "cell_type": "code",
      "source": [
        "df = pd.merge(df1, df2,\n",
        " how='right')\n",
        "df"
      ],
      "metadata": {
        "colab": {
          "base_uri": "https://localhost:8080/",
          "height": 206
        },
        "id": "G1FEmJ0IVBgW",
        "outputId": "ea25d04f-1feb-4001-88ff-5db701ea2d91"
      },
      "execution_count": null,
      "outputs": [
        {
          "output_type": "execute_result",
          "data": {
            "text/plain": [
              "   id data1 data2\n",
              "0   3     C     X\n",
              "1   4     B     Y\n",
              "2   4     D     Y\n",
              "3   5   NaN     Z\n",
              "4   6   NaN     W"
            ],
            "text/html": [
              "\n",
              "  <div id=\"df-f58dda2a-779f-48bd-a9f0-bc2ddcc67c94\" class=\"colab-df-container\">\n",
              "    <div>\n",
              "<style scoped>\n",
              "    .dataframe tbody tr th:only-of-type {\n",
              "        vertical-align: middle;\n",
              "    }\n",
              "\n",
              "    .dataframe tbody tr th {\n",
              "        vertical-align: top;\n",
              "    }\n",
              "\n",
              "    .dataframe thead th {\n",
              "        text-align: right;\n",
              "    }\n",
              "</style>\n",
              "<table border=\"1\" class=\"dataframe\">\n",
              "  <thead>\n",
              "    <tr style=\"text-align: right;\">\n",
              "      <th></th>\n",
              "      <th>id</th>\n",
              "      <th>data1</th>\n",
              "      <th>data2</th>\n",
              "    </tr>\n",
              "  </thead>\n",
              "  <tbody>\n",
              "    <tr>\n",
              "      <th>0</th>\n",
              "      <td>3</td>\n",
              "      <td>C</td>\n",
              "      <td>X</td>\n",
              "    </tr>\n",
              "    <tr>\n",
              "      <th>1</th>\n",
              "      <td>4</td>\n",
              "      <td>B</td>\n",
              "      <td>Y</td>\n",
              "    </tr>\n",
              "    <tr>\n",
              "      <th>2</th>\n",
              "      <td>4</td>\n",
              "      <td>D</td>\n",
              "      <td>Y</td>\n",
              "    </tr>\n",
              "    <tr>\n",
              "      <th>3</th>\n",
              "      <td>5</td>\n",
              "      <td>NaN</td>\n",
              "      <td>Z</td>\n",
              "    </tr>\n",
              "    <tr>\n",
              "      <th>4</th>\n",
              "      <td>6</td>\n",
              "      <td>NaN</td>\n",
              "      <td>W</td>\n",
              "    </tr>\n",
              "  </tbody>\n",
              "</table>\n",
              "</div>\n",
              "    <div class=\"colab-df-buttons\">\n",
              "\n",
              "  <div class=\"colab-df-container\">\n",
              "    <button class=\"colab-df-convert\" onclick=\"convertToInteractive('df-f58dda2a-779f-48bd-a9f0-bc2ddcc67c94')\"\n",
              "            title=\"Convert this dataframe to an interactive table.\"\n",
              "            style=\"display:none;\">\n",
              "\n",
              "  <svg xmlns=\"http://www.w3.org/2000/svg\" height=\"24px\" viewBox=\"0 -960 960 960\">\n",
              "    <path d=\"M120-120v-720h720v720H120Zm60-500h600v-160H180v160Zm220 220h160v-160H400v160Zm0 220h160v-160H400v160ZM180-400h160v-160H180v160Zm440 0h160v-160H620v160ZM180-180h160v-160H180v160Zm440 0h160v-160H620v160Z\"/>\n",
              "  </svg>\n",
              "    </button>\n",
              "\n",
              "  <style>\n",
              "    .colab-df-container {\n",
              "      display:flex;\n",
              "      gap: 12px;\n",
              "    }\n",
              "\n",
              "    .colab-df-convert {\n",
              "      background-color: #E8F0FE;\n",
              "      border: none;\n",
              "      border-radius: 50%;\n",
              "      cursor: pointer;\n",
              "      display: none;\n",
              "      fill: #1967D2;\n",
              "      height: 32px;\n",
              "      padding: 0 0 0 0;\n",
              "      width: 32px;\n",
              "    }\n",
              "\n",
              "    .colab-df-convert:hover {\n",
              "      background-color: #E2EBFA;\n",
              "      box-shadow: 0px 1px 2px rgba(60, 64, 67, 0.3), 0px 1px 3px 1px rgba(60, 64, 67, 0.15);\n",
              "      fill: #174EA6;\n",
              "    }\n",
              "\n",
              "    .colab-df-buttons div {\n",
              "      margin-bottom: 4px;\n",
              "    }\n",
              "\n",
              "    [theme=dark] .colab-df-convert {\n",
              "      background-color: #3B4455;\n",
              "      fill: #D2E3FC;\n",
              "    }\n",
              "\n",
              "    [theme=dark] .colab-df-convert:hover {\n",
              "      background-color: #434B5C;\n",
              "      box-shadow: 0px 1px 3px 1px rgba(0, 0, 0, 0.15);\n",
              "      filter: drop-shadow(0px 1px 2px rgba(0, 0, 0, 0.3));\n",
              "      fill: #FFFFFF;\n",
              "    }\n",
              "  </style>\n",
              "\n",
              "    <script>\n",
              "      const buttonEl =\n",
              "        document.querySelector('#df-f58dda2a-779f-48bd-a9f0-bc2ddcc67c94 button.colab-df-convert');\n",
              "      buttonEl.style.display =\n",
              "        google.colab.kernel.accessAllowed ? 'block' : 'none';\n",
              "\n",
              "      async function convertToInteractive(key) {\n",
              "        const element = document.querySelector('#df-f58dda2a-779f-48bd-a9f0-bc2ddcc67c94');\n",
              "        const dataTable =\n",
              "          await google.colab.kernel.invokeFunction('convertToInteractive',\n",
              "                                                    [key], {});\n",
              "        if (!dataTable) return;\n",
              "\n",
              "        const docLinkHtml = 'Like what you see? Visit the ' +\n",
              "          '<a target=\"_blank\" href=https://colab.research.google.com/notebooks/data_table.ipynb>data table notebook</a>'\n",
              "          + ' to learn more about interactive tables.';\n",
              "        element.innerHTML = '';\n",
              "        dataTable['output_type'] = 'display_data';\n",
              "        await google.colab.output.renderOutput(dataTable, element);\n",
              "        const docLink = document.createElement('div');\n",
              "        docLink.innerHTML = docLinkHtml;\n",
              "        element.appendChild(docLink);\n",
              "      }\n",
              "    </script>\n",
              "  </div>\n",
              "\n",
              "\n",
              "<div id=\"df-e66527c7-a521-4e2e-bf3c-9b5984177f61\">\n",
              "  <button class=\"colab-df-quickchart\" onclick=\"quickchart('df-e66527c7-a521-4e2e-bf3c-9b5984177f61')\"\n",
              "            title=\"Suggest charts\"\n",
              "            style=\"display:none;\">\n",
              "\n",
              "<svg xmlns=\"http://www.w3.org/2000/svg\" height=\"24px\"viewBox=\"0 0 24 24\"\n",
              "     width=\"24px\">\n",
              "    <g>\n",
              "        <path d=\"M19 3H5c-1.1 0-2 .9-2 2v14c0 1.1.9 2 2 2h14c1.1 0 2-.9 2-2V5c0-1.1-.9-2-2-2zM9 17H7v-7h2v7zm4 0h-2V7h2v10zm4 0h-2v-4h2v4z\"/>\n",
              "    </g>\n",
              "</svg>\n",
              "  </button>\n",
              "\n",
              "<style>\n",
              "  .colab-df-quickchart {\n",
              "      --bg-color: #E8F0FE;\n",
              "      --fill-color: #1967D2;\n",
              "      --hover-bg-color: #E2EBFA;\n",
              "      --hover-fill-color: #174EA6;\n",
              "      --disabled-fill-color: #AAA;\n",
              "      --disabled-bg-color: #DDD;\n",
              "  }\n",
              "\n",
              "  [theme=dark] .colab-df-quickchart {\n",
              "      --bg-color: #3B4455;\n",
              "      --fill-color: #D2E3FC;\n",
              "      --hover-bg-color: #434B5C;\n",
              "      --hover-fill-color: #FFFFFF;\n",
              "      --disabled-bg-color: #3B4455;\n",
              "      --disabled-fill-color: #666;\n",
              "  }\n",
              "\n",
              "  .colab-df-quickchart {\n",
              "    background-color: var(--bg-color);\n",
              "    border: none;\n",
              "    border-radius: 50%;\n",
              "    cursor: pointer;\n",
              "    display: none;\n",
              "    fill: var(--fill-color);\n",
              "    height: 32px;\n",
              "    padding: 0;\n",
              "    width: 32px;\n",
              "  }\n",
              "\n",
              "  .colab-df-quickchart:hover {\n",
              "    background-color: var(--hover-bg-color);\n",
              "    box-shadow: 0 1px 2px rgba(60, 64, 67, 0.3), 0 1px 3px 1px rgba(60, 64, 67, 0.15);\n",
              "    fill: var(--button-hover-fill-color);\n",
              "  }\n",
              "\n",
              "  .colab-df-quickchart-complete:disabled,\n",
              "  .colab-df-quickchart-complete:disabled:hover {\n",
              "    background-color: var(--disabled-bg-color);\n",
              "    fill: var(--disabled-fill-color);\n",
              "    box-shadow: none;\n",
              "  }\n",
              "\n",
              "  .colab-df-spinner {\n",
              "    border: 2px solid var(--fill-color);\n",
              "    border-color: transparent;\n",
              "    border-bottom-color: var(--fill-color);\n",
              "    animation:\n",
              "      spin 1s steps(1) infinite;\n",
              "  }\n",
              "\n",
              "  @keyframes spin {\n",
              "    0% {\n",
              "      border-color: transparent;\n",
              "      border-bottom-color: var(--fill-color);\n",
              "      border-left-color: var(--fill-color);\n",
              "    }\n",
              "    20% {\n",
              "      border-color: transparent;\n",
              "      border-left-color: var(--fill-color);\n",
              "      border-top-color: var(--fill-color);\n",
              "    }\n",
              "    30% {\n",
              "      border-color: transparent;\n",
              "      border-left-color: var(--fill-color);\n",
              "      border-top-color: var(--fill-color);\n",
              "      border-right-color: var(--fill-color);\n",
              "    }\n",
              "    40% {\n",
              "      border-color: transparent;\n",
              "      border-right-color: var(--fill-color);\n",
              "      border-top-color: var(--fill-color);\n",
              "    }\n",
              "    60% {\n",
              "      border-color: transparent;\n",
              "      border-right-color: var(--fill-color);\n",
              "    }\n",
              "    80% {\n",
              "      border-color: transparent;\n",
              "      border-right-color: var(--fill-color);\n",
              "      border-bottom-color: var(--fill-color);\n",
              "    }\n",
              "    90% {\n",
              "      border-color: transparent;\n",
              "      border-bottom-color: var(--fill-color);\n",
              "    }\n",
              "  }\n",
              "</style>\n",
              "\n",
              "  <script>\n",
              "    async function quickchart(key) {\n",
              "      const quickchartButtonEl =\n",
              "        document.querySelector('#' + key + ' button');\n",
              "      quickchartButtonEl.disabled = true;  // To prevent multiple clicks.\n",
              "      quickchartButtonEl.classList.add('colab-df-spinner');\n",
              "      try {\n",
              "        const charts = await google.colab.kernel.invokeFunction(\n",
              "            'suggestCharts', [key], {});\n",
              "      } catch (error) {\n",
              "        console.error('Error during call to suggestCharts:', error);\n",
              "      }\n",
              "      quickchartButtonEl.classList.remove('colab-df-spinner');\n",
              "      quickchartButtonEl.classList.add('colab-df-quickchart-complete');\n",
              "    }\n",
              "    (() => {\n",
              "      let quickchartButtonEl =\n",
              "        document.querySelector('#df-e66527c7-a521-4e2e-bf3c-9b5984177f61 button');\n",
              "      quickchartButtonEl.style.display =\n",
              "        google.colab.kernel.accessAllowed ? 'block' : 'none';\n",
              "    })();\n",
              "  </script>\n",
              "</div>\n",
              "\n",
              "  <div id=\"id_87038d13-7ddf-4e28-b007-3badd76b0f2c\">\n",
              "    <style>\n",
              "      .colab-df-generate {\n",
              "        background-color: #E8F0FE;\n",
              "        border: none;\n",
              "        border-radius: 50%;\n",
              "        cursor: pointer;\n",
              "        display: none;\n",
              "        fill: #1967D2;\n",
              "        height: 32px;\n",
              "        padding: 0 0 0 0;\n",
              "        width: 32px;\n",
              "      }\n",
              "\n",
              "      .colab-df-generate:hover {\n",
              "        background-color: #E2EBFA;\n",
              "        box-shadow: 0px 1px 2px rgba(60, 64, 67, 0.3), 0px 1px 3px 1px rgba(60, 64, 67, 0.15);\n",
              "        fill: #174EA6;\n",
              "      }\n",
              "\n",
              "      [theme=dark] .colab-df-generate {\n",
              "        background-color: #3B4455;\n",
              "        fill: #D2E3FC;\n",
              "      }\n",
              "\n",
              "      [theme=dark] .colab-df-generate:hover {\n",
              "        background-color: #434B5C;\n",
              "        box-shadow: 0px 1px 3px 1px rgba(0, 0, 0, 0.15);\n",
              "        filter: drop-shadow(0px 1px 2px rgba(0, 0, 0, 0.3));\n",
              "        fill: #FFFFFF;\n",
              "      }\n",
              "    </style>\n",
              "    <button class=\"colab-df-generate\" onclick=\"generateWithVariable('df')\"\n",
              "            title=\"Generate code using this dataframe.\"\n",
              "            style=\"display:none;\">\n",
              "\n",
              "  <svg xmlns=\"http://www.w3.org/2000/svg\" height=\"24px\"viewBox=\"0 0 24 24\"\n",
              "       width=\"24px\">\n",
              "    <path d=\"M7,19H8.4L18.45,9,17,7.55,7,17.6ZM5,21V16.75L18.45,3.32a2,2,0,0,1,2.83,0l1.4,1.43a1.91,1.91,0,0,1,.58,1.4,1.91,1.91,0,0,1-.58,1.4L9.25,21ZM18.45,9,17,7.55Zm-12,3A5.31,5.31,0,0,0,4.9,8.1,5.31,5.31,0,0,0,1,6.5,5.31,5.31,0,0,0,4.9,4.9,5.31,5.31,0,0,0,6.5,1,5.31,5.31,0,0,0,8.1,4.9,5.31,5.31,0,0,0,12,6.5,5.46,5.46,0,0,0,6.5,12Z\"/>\n",
              "  </svg>\n",
              "    </button>\n",
              "    <script>\n",
              "      (() => {\n",
              "      const buttonEl =\n",
              "        document.querySelector('#id_87038d13-7ddf-4e28-b007-3badd76b0f2c button.colab-df-generate');\n",
              "      buttonEl.style.display =\n",
              "        google.colab.kernel.accessAllowed ? 'block' : 'none';\n",
              "\n",
              "      buttonEl.onclick = () => {\n",
              "        google.colab.notebook.generateWithVariable('df');\n",
              "      }\n",
              "      })();\n",
              "    </script>\n",
              "  </div>\n",
              "\n",
              "    </div>\n",
              "  </div>\n"
            ],
            "application/vnd.google.colaboratory.intrinsic+json": {
              "type": "dataframe",
              "variable_name": "df",
              "summary": "{\n  \"name\": \"df\",\n  \"rows\": 5,\n  \"fields\": [\n    {\n      \"column\": \"id\",\n      \"properties\": {\n        \"dtype\": \"number\",\n        \"std\": 1,\n        \"min\": 3,\n        \"max\": 6,\n        \"num_unique_values\": 4,\n        \"samples\": [\n          4,\n          6,\n          3\n        ],\n        \"semantic_type\": \"\",\n        \"description\": \"\"\n      }\n    },\n    {\n      \"column\": \"data1\",\n      \"properties\": {\n        \"dtype\": \"string\",\n        \"num_unique_values\": 3,\n        \"samples\": [\n          \"C\",\n          \"B\",\n          \"D\"\n        ],\n        \"semantic_type\": \"\",\n        \"description\": \"\"\n      }\n    },\n    {\n      \"column\": \"data2\",\n      \"properties\": {\n        \"dtype\": \"string\",\n        \"num_unique_values\": 4,\n        \"samples\": [\n          \"Y\",\n          \"W\",\n          \"X\"\n        ],\n        \"semantic_type\": \"\",\n        \"description\": \"\"\n      }\n    }\n  ]\n}"
            }
          },
          "metadata": {},
          "execution_count": 147
        }
      ]
    },
    {
      "cell_type": "code",
      "source": [
        "df = pd.merge(df1, df2,\n",
        " how='outer')\n",
        "df"
      ],
      "metadata": {
        "colab": {
          "base_uri": "https://localhost:8080/",
          "height": 237
        },
        "id": "R8oNMAnGVEsm",
        "outputId": "787d7386-7f28-4011-88c6-7b86c5dfceb7"
      },
      "execution_count": null,
      "outputs": [
        {
          "output_type": "execute_result",
          "data": {
            "text/plain": [
              "   id data1 data2\n",
              "0   1     A   NaN\n",
              "1   4     B     Y\n",
              "2   4     D     Y\n",
              "3   3     C     X\n",
              "4   5   NaN     Z\n",
              "5   6   NaN     W"
            ],
            "text/html": [
              "\n",
              "  <div id=\"df-6a691d98-d43c-490c-a990-ad22e86959e3\" class=\"colab-df-container\">\n",
              "    <div>\n",
              "<style scoped>\n",
              "    .dataframe tbody tr th:only-of-type {\n",
              "        vertical-align: middle;\n",
              "    }\n",
              "\n",
              "    .dataframe tbody tr th {\n",
              "        vertical-align: top;\n",
              "    }\n",
              "\n",
              "    .dataframe thead th {\n",
              "        text-align: right;\n",
              "    }\n",
              "</style>\n",
              "<table border=\"1\" class=\"dataframe\">\n",
              "  <thead>\n",
              "    <tr style=\"text-align: right;\">\n",
              "      <th></th>\n",
              "      <th>id</th>\n",
              "      <th>data1</th>\n",
              "      <th>data2</th>\n",
              "    </tr>\n",
              "  </thead>\n",
              "  <tbody>\n",
              "    <tr>\n",
              "      <th>0</th>\n",
              "      <td>1</td>\n",
              "      <td>A</td>\n",
              "      <td>NaN</td>\n",
              "    </tr>\n",
              "    <tr>\n",
              "      <th>1</th>\n",
              "      <td>4</td>\n",
              "      <td>B</td>\n",
              "      <td>Y</td>\n",
              "    </tr>\n",
              "    <tr>\n",
              "      <th>2</th>\n",
              "      <td>4</td>\n",
              "      <td>D</td>\n",
              "      <td>Y</td>\n",
              "    </tr>\n",
              "    <tr>\n",
              "      <th>3</th>\n",
              "      <td>3</td>\n",
              "      <td>C</td>\n",
              "      <td>X</td>\n",
              "    </tr>\n",
              "    <tr>\n",
              "      <th>4</th>\n",
              "      <td>5</td>\n",
              "      <td>NaN</td>\n",
              "      <td>Z</td>\n",
              "    </tr>\n",
              "    <tr>\n",
              "      <th>5</th>\n",
              "      <td>6</td>\n",
              "      <td>NaN</td>\n",
              "      <td>W</td>\n",
              "    </tr>\n",
              "  </tbody>\n",
              "</table>\n",
              "</div>\n",
              "    <div class=\"colab-df-buttons\">\n",
              "\n",
              "  <div class=\"colab-df-container\">\n",
              "    <button class=\"colab-df-convert\" onclick=\"convertToInteractive('df-6a691d98-d43c-490c-a990-ad22e86959e3')\"\n",
              "            title=\"Convert this dataframe to an interactive table.\"\n",
              "            style=\"display:none;\">\n",
              "\n",
              "  <svg xmlns=\"http://www.w3.org/2000/svg\" height=\"24px\" viewBox=\"0 -960 960 960\">\n",
              "    <path d=\"M120-120v-720h720v720H120Zm60-500h600v-160H180v160Zm220 220h160v-160H400v160Zm0 220h160v-160H400v160ZM180-400h160v-160H180v160Zm440 0h160v-160H620v160ZM180-180h160v-160H180v160Zm440 0h160v-160H620v160Z\"/>\n",
              "  </svg>\n",
              "    </button>\n",
              "\n",
              "  <style>\n",
              "    .colab-df-container {\n",
              "      display:flex;\n",
              "      gap: 12px;\n",
              "    }\n",
              "\n",
              "    .colab-df-convert {\n",
              "      background-color: #E8F0FE;\n",
              "      border: none;\n",
              "      border-radius: 50%;\n",
              "      cursor: pointer;\n",
              "      display: none;\n",
              "      fill: #1967D2;\n",
              "      height: 32px;\n",
              "      padding: 0 0 0 0;\n",
              "      width: 32px;\n",
              "    }\n",
              "\n",
              "    .colab-df-convert:hover {\n",
              "      background-color: #E2EBFA;\n",
              "      box-shadow: 0px 1px 2px rgba(60, 64, 67, 0.3), 0px 1px 3px 1px rgba(60, 64, 67, 0.15);\n",
              "      fill: #174EA6;\n",
              "    }\n",
              "\n",
              "    .colab-df-buttons div {\n",
              "      margin-bottom: 4px;\n",
              "    }\n",
              "\n",
              "    [theme=dark] .colab-df-convert {\n",
              "      background-color: #3B4455;\n",
              "      fill: #D2E3FC;\n",
              "    }\n",
              "\n",
              "    [theme=dark] .colab-df-convert:hover {\n",
              "      background-color: #434B5C;\n",
              "      box-shadow: 0px 1px 3px 1px rgba(0, 0, 0, 0.15);\n",
              "      filter: drop-shadow(0px 1px 2px rgba(0, 0, 0, 0.3));\n",
              "      fill: #FFFFFF;\n",
              "    }\n",
              "  </style>\n",
              "\n",
              "    <script>\n",
              "      const buttonEl =\n",
              "        document.querySelector('#df-6a691d98-d43c-490c-a990-ad22e86959e3 button.colab-df-convert');\n",
              "      buttonEl.style.display =\n",
              "        google.colab.kernel.accessAllowed ? 'block' : 'none';\n",
              "\n",
              "      async function convertToInteractive(key) {\n",
              "        const element = document.querySelector('#df-6a691d98-d43c-490c-a990-ad22e86959e3');\n",
              "        const dataTable =\n",
              "          await google.colab.kernel.invokeFunction('convertToInteractive',\n",
              "                                                    [key], {});\n",
              "        if (!dataTable) return;\n",
              "\n",
              "        const docLinkHtml = 'Like what you see? Visit the ' +\n",
              "          '<a target=\"_blank\" href=https://colab.research.google.com/notebooks/data_table.ipynb>data table notebook</a>'\n",
              "          + ' to learn more about interactive tables.';\n",
              "        element.innerHTML = '';\n",
              "        dataTable['output_type'] = 'display_data';\n",
              "        await google.colab.output.renderOutput(dataTable, element);\n",
              "        const docLink = document.createElement('div');\n",
              "        docLink.innerHTML = docLinkHtml;\n",
              "        element.appendChild(docLink);\n",
              "      }\n",
              "    </script>\n",
              "  </div>\n",
              "\n",
              "\n",
              "<div id=\"df-e0afc195-e9bf-46b1-a8f8-0c3a2f92af4e\">\n",
              "  <button class=\"colab-df-quickchart\" onclick=\"quickchart('df-e0afc195-e9bf-46b1-a8f8-0c3a2f92af4e')\"\n",
              "            title=\"Suggest charts\"\n",
              "            style=\"display:none;\">\n",
              "\n",
              "<svg xmlns=\"http://www.w3.org/2000/svg\" height=\"24px\"viewBox=\"0 0 24 24\"\n",
              "     width=\"24px\">\n",
              "    <g>\n",
              "        <path d=\"M19 3H5c-1.1 0-2 .9-2 2v14c0 1.1.9 2 2 2h14c1.1 0 2-.9 2-2V5c0-1.1-.9-2-2-2zM9 17H7v-7h2v7zm4 0h-2V7h2v10zm4 0h-2v-4h2v4z\"/>\n",
              "    </g>\n",
              "</svg>\n",
              "  </button>\n",
              "\n",
              "<style>\n",
              "  .colab-df-quickchart {\n",
              "      --bg-color: #E8F0FE;\n",
              "      --fill-color: #1967D2;\n",
              "      --hover-bg-color: #E2EBFA;\n",
              "      --hover-fill-color: #174EA6;\n",
              "      --disabled-fill-color: #AAA;\n",
              "      --disabled-bg-color: #DDD;\n",
              "  }\n",
              "\n",
              "  [theme=dark] .colab-df-quickchart {\n",
              "      --bg-color: #3B4455;\n",
              "      --fill-color: #D2E3FC;\n",
              "      --hover-bg-color: #434B5C;\n",
              "      --hover-fill-color: #FFFFFF;\n",
              "      --disabled-bg-color: #3B4455;\n",
              "      --disabled-fill-color: #666;\n",
              "  }\n",
              "\n",
              "  .colab-df-quickchart {\n",
              "    background-color: var(--bg-color);\n",
              "    border: none;\n",
              "    border-radius: 50%;\n",
              "    cursor: pointer;\n",
              "    display: none;\n",
              "    fill: var(--fill-color);\n",
              "    height: 32px;\n",
              "    padding: 0;\n",
              "    width: 32px;\n",
              "  }\n",
              "\n",
              "  .colab-df-quickchart:hover {\n",
              "    background-color: var(--hover-bg-color);\n",
              "    box-shadow: 0 1px 2px rgba(60, 64, 67, 0.3), 0 1px 3px 1px rgba(60, 64, 67, 0.15);\n",
              "    fill: var(--button-hover-fill-color);\n",
              "  }\n",
              "\n",
              "  .colab-df-quickchart-complete:disabled,\n",
              "  .colab-df-quickchart-complete:disabled:hover {\n",
              "    background-color: var(--disabled-bg-color);\n",
              "    fill: var(--disabled-fill-color);\n",
              "    box-shadow: none;\n",
              "  }\n",
              "\n",
              "  .colab-df-spinner {\n",
              "    border: 2px solid var(--fill-color);\n",
              "    border-color: transparent;\n",
              "    border-bottom-color: var(--fill-color);\n",
              "    animation:\n",
              "      spin 1s steps(1) infinite;\n",
              "  }\n",
              "\n",
              "  @keyframes spin {\n",
              "    0% {\n",
              "      border-color: transparent;\n",
              "      border-bottom-color: var(--fill-color);\n",
              "      border-left-color: var(--fill-color);\n",
              "    }\n",
              "    20% {\n",
              "      border-color: transparent;\n",
              "      border-left-color: var(--fill-color);\n",
              "      border-top-color: var(--fill-color);\n",
              "    }\n",
              "    30% {\n",
              "      border-color: transparent;\n",
              "      border-left-color: var(--fill-color);\n",
              "      border-top-color: var(--fill-color);\n",
              "      border-right-color: var(--fill-color);\n",
              "    }\n",
              "    40% {\n",
              "      border-color: transparent;\n",
              "      border-right-color: var(--fill-color);\n",
              "      border-top-color: var(--fill-color);\n",
              "    }\n",
              "    60% {\n",
              "      border-color: transparent;\n",
              "      border-right-color: var(--fill-color);\n",
              "    }\n",
              "    80% {\n",
              "      border-color: transparent;\n",
              "      border-right-color: var(--fill-color);\n",
              "      border-bottom-color: var(--fill-color);\n",
              "    }\n",
              "    90% {\n",
              "      border-color: transparent;\n",
              "      border-bottom-color: var(--fill-color);\n",
              "    }\n",
              "  }\n",
              "</style>\n",
              "\n",
              "  <script>\n",
              "    async function quickchart(key) {\n",
              "      const quickchartButtonEl =\n",
              "        document.querySelector('#' + key + ' button');\n",
              "      quickchartButtonEl.disabled = true;  // To prevent multiple clicks.\n",
              "      quickchartButtonEl.classList.add('colab-df-spinner');\n",
              "      try {\n",
              "        const charts = await google.colab.kernel.invokeFunction(\n",
              "            'suggestCharts', [key], {});\n",
              "      } catch (error) {\n",
              "        console.error('Error during call to suggestCharts:', error);\n",
              "      }\n",
              "      quickchartButtonEl.classList.remove('colab-df-spinner');\n",
              "      quickchartButtonEl.classList.add('colab-df-quickchart-complete');\n",
              "    }\n",
              "    (() => {\n",
              "      let quickchartButtonEl =\n",
              "        document.querySelector('#df-e0afc195-e9bf-46b1-a8f8-0c3a2f92af4e button');\n",
              "      quickchartButtonEl.style.display =\n",
              "        google.colab.kernel.accessAllowed ? 'block' : 'none';\n",
              "    })();\n",
              "  </script>\n",
              "</div>\n",
              "\n",
              "  <div id=\"id_275be0c8-5540-446e-bc12-1fcacdd332b5\">\n",
              "    <style>\n",
              "      .colab-df-generate {\n",
              "        background-color: #E8F0FE;\n",
              "        border: none;\n",
              "        border-radius: 50%;\n",
              "        cursor: pointer;\n",
              "        display: none;\n",
              "        fill: #1967D2;\n",
              "        height: 32px;\n",
              "        padding: 0 0 0 0;\n",
              "        width: 32px;\n",
              "      }\n",
              "\n",
              "      .colab-df-generate:hover {\n",
              "        background-color: #E2EBFA;\n",
              "        box-shadow: 0px 1px 2px rgba(60, 64, 67, 0.3), 0px 1px 3px 1px rgba(60, 64, 67, 0.15);\n",
              "        fill: #174EA6;\n",
              "      }\n",
              "\n",
              "      [theme=dark] .colab-df-generate {\n",
              "        background-color: #3B4455;\n",
              "        fill: #D2E3FC;\n",
              "      }\n",
              "\n",
              "      [theme=dark] .colab-df-generate:hover {\n",
              "        background-color: #434B5C;\n",
              "        box-shadow: 0px 1px 3px 1px rgba(0, 0, 0, 0.15);\n",
              "        filter: drop-shadow(0px 1px 2px rgba(0, 0, 0, 0.3));\n",
              "        fill: #FFFFFF;\n",
              "      }\n",
              "    </style>\n",
              "    <button class=\"colab-df-generate\" onclick=\"generateWithVariable('df')\"\n",
              "            title=\"Generate code using this dataframe.\"\n",
              "            style=\"display:none;\">\n",
              "\n",
              "  <svg xmlns=\"http://www.w3.org/2000/svg\" height=\"24px\"viewBox=\"0 0 24 24\"\n",
              "       width=\"24px\">\n",
              "    <path d=\"M7,19H8.4L18.45,9,17,7.55,7,17.6ZM5,21V16.75L18.45,3.32a2,2,0,0,1,2.83,0l1.4,1.43a1.91,1.91,0,0,1,.58,1.4,1.91,1.91,0,0,1-.58,1.4L9.25,21ZM18.45,9,17,7.55Zm-12,3A5.31,5.31,0,0,0,4.9,8.1,5.31,5.31,0,0,0,1,6.5,5.31,5.31,0,0,0,4.9,4.9,5.31,5.31,0,0,0,6.5,1,5.31,5.31,0,0,0,8.1,4.9,5.31,5.31,0,0,0,12,6.5,5.46,5.46,0,0,0,6.5,12Z\"/>\n",
              "  </svg>\n",
              "    </button>\n",
              "    <script>\n",
              "      (() => {\n",
              "      const buttonEl =\n",
              "        document.querySelector('#id_275be0c8-5540-446e-bc12-1fcacdd332b5 button.colab-df-generate');\n",
              "      buttonEl.style.display =\n",
              "        google.colab.kernel.accessAllowed ? 'block' : 'none';\n",
              "\n",
              "      buttonEl.onclick = () => {\n",
              "        google.colab.notebook.generateWithVariable('df');\n",
              "      }\n",
              "      })();\n",
              "    </script>\n",
              "  </div>\n",
              "\n",
              "    </div>\n",
              "  </div>\n"
            ],
            "application/vnd.google.colaboratory.intrinsic+json": {
              "type": "dataframe",
              "variable_name": "df",
              "summary": "{\n  \"name\": \"df\",\n  \"rows\": 6,\n  \"fields\": [\n    {\n      \"column\": \"id\",\n      \"properties\": {\n        \"dtype\": \"number\",\n        \"std\": 1,\n        \"min\": 1,\n        \"max\": 6,\n        \"num_unique_values\": 5,\n        \"samples\": [\n          4,\n          6,\n          3\n        ],\n        \"semantic_type\": \"\",\n        \"description\": \"\"\n      }\n    },\n    {\n      \"column\": \"data1\",\n      \"properties\": {\n        \"dtype\": \"string\",\n        \"num_unique_values\": 4,\n        \"samples\": [\n          \"B\",\n          \"C\",\n          \"A\"\n        ],\n        \"semantic_type\": \"\",\n        \"description\": \"\"\n      }\n    },\n    {\n      \"column\": \"data2\",\n      \"properties\": {\n        \"dtype\": \"string\",\n        \"num_unique_values\": 4,\n        \"samples\": [\n          \"X\",\n          \"W\",\n          \"Y\"\n        ],\n        \"semantic_type\": \"\",\n        \"description\": \"\"\n      }\n    }\n  ]\n}"
            }
          },
          "metadata": {},
          "execution_count": 148
        }
      ]
    },
    {
      "cell_type": "code",
      "source": [
        " df3 = df1.merge(df2,\n",
        " on='id', how='left',\n",
        " indicator=True)\n",
        " print(df3)\n",
        " df = df3.loc[df3['_merge'] == 'left_only']\n",
        " df"
      ],
      "metadata": {
        "colab": {
          "base_uri": "https://localhost:8080/",
          "height": 176
        },
        "id": "_xpruVz4VIOi",
        "outputId": "bb82bfc6-d9c1-4e5c-82d6-049ac78156ce"
      },
      "execution_count": null,
      "outputs": [
        {
          "output_type": "stream",
          "name": "stdout",
          "text": [
            "   id data1 data2     _merge\n",
            "0   1     A   NaN  left_only\n",
            "1   4     B     Y       both\n",
            "2   3     C     X       both\n",
            "3   4     D     Y       both\n"
          ]
        },
        {
          "output_type": "execute_result",
          "data": {
            "text/plain": [
              "   id data1 data2     _merge\n",
              "0   1     A   NaN  left_only"
            ],
            "text/html": [
              "\n",
              "  <div id=\"df-d9d945cd-c672-4248-b1d4-50a438ef8a18\" class=\"colab-df-container\">\n",
              "    <div>\n",
              "<style scoped>\n",
              "    .dataframe tbody tr th:only-of-type {\n",
              "        vertical-align: middle;\n",
              "    }\n",
              "\n",
              "    .dataframe tbody tr th {\n",
              "        vertical-align: top;\n",
              "    }\n",
              "\n",
              "    .dataframe thead th {\n",
              "        text-align: right;\n",
              "    }\n",
              "</style>\n",
              "<table border=\"1\" class=\"dataframe\">\n",
              "  <thead>\n",
              "    <tr style=\"text-align: right;\">\n",
              "      <th></th>\n",
              "      <th>id</th>\n",
              "      <th>data1</th>\n",
              "      <th>data2</th>\n",
              "      <th>_merge</th>\n",
              "    </tr>\n",
              "  </thead>\n",
              "  <tbody>\n",
              "    <tr>\n",
              "      <th>0</th>\n",
              "      <td>1</td>\n",
              "      <td>A</td>\n",
              "      <td>NaN</td>\n",
              "      <td>left_only</td>\n",
              "    </tr>\n",
              "  </tbody>\n",
              "</table>\n",
              "</div>\n",
              "    <div class=\"colab-df-buttons\">\n",
              "\n",
              "  <div class=\"colab-df-container\">\n",
              "    <button class=\"colab-df-convert\" onclick=\"convertToInteractive('df-d9d945cd-c672-4248-b1d4-50a438ef8a18')\"\n",
              "            title=\"Convert this dataframe to an interactive table.\"\n",
              "            style=\"display:none;\">\n",
              "\n",
              "  <svg xmlns=\"http://www.w3.org/2000/svg\" height=\"24px\" viewBox=\"0 -960 960 960\">\n",
              "    <path d=\"M120-120v-720h720v720H120Zm60-500h600v-160H180v160Zm220 220h160v-160H400v160Zm0 220h160v-160H400v160ZM180-400h160v-160H180v160Zm440 0h160v-160H620v160ZM180-180h160v-160H180v160Zm440 0h160v-160H620v160Z\"/>\n",
              "  </svg>\n",
              "    </button>\n",
              "\n",
              "  <style>\n",
              "    .colab-df-container {\n",
              "      display:flex;\n",
              "      gap: 12px;\n",
              "    }\n",
              "\n",
              "    .colab-df-convert {\n",
              "      background-color: #E8F0FE;\n",
              "      border: none;\n",
              "      border-radius: 50%;\n",
              "      cursor: pointer;\n",
              "      display: none;\n",
              "      fill: #1967D2;\n",
              "      height: 32px;\n",
              "      padding: 0 0 0 0;\n",
              "      width: 32px;\n",
              "    }\n",
              "\n",
              "    .colab-df-convert:hover {\n",
              "      background-color: #E2EBFA;\n",
              "      box-shadow: 0px 1px 2px rgba(60, 64, 67, 0.3), 0px 1px 3px 1px rgba(60, 64, 67, 0.15);\n",
              "      fill: #174EA6;\n",
              "    }\n",
              "\n",
              "    .colab-df-buttons div {\n",
              "      margin-bottom: 4px;\n",
              "    }\n",
              "\n",
              "    [theme=dark] .colab-df-convert {\n",
              "      background-color: #3B4455;\n",
              "      fill: #D2E3FC;\n",
              "    }\n",
              "\n",
              "    [theme=dark] .colab-df-convert:hover {\n",
              "      background-color: #434B5C;\n",
              "      box-shadow: 0px 1px 3px 1px rgba(0, 0, 0, 0.15);\n",
              "      filter: drop-shadow(0px 1px 2px rgba(0, 0, 0, 0.3));\n",
              "      fill: #FFFFFF;\n",
              "    }\n",
              "  </style>\n",
              "\n",
              "    <script>\n",
              "      const buttonEl =\n",
              "        document.querySelector('#df-d9d945cd-c672-4248-b1d4-50a438ef8a18 button.colab-df-convert');\n",
              "      buttonEl.style.display =\n",
              "        google.colab.kernel.accessAllowed ? 'block' : 'none';\n",
              "\n",
              "      async function convertToInteractive(key) {\n",
              "        const element = document.querySelector('#df-d9d945cd-c672-4248-b1d4-50a438ef8a18');\n",
              "        const dataTable =\n",
              "          await google.colab.kernel.invokeFunction('convertToInteractive',\n",
              "                                                    [key], {});\n",
              "        if (!dataTable) return;\n",
              "\n",
              "        const docLinkHtml = 'Like what you see? Visit the ' +\n",
              "          '<a target=\"_blank\" href=https://colab.research.google.com/notebooks/data_table.ipynb>data table notebook</a>'\n",
              "          + ' to learn more about interactive tables.';\n",
              "        element.innerHTML = '';\n",
              "        dataTable['output_type'] = 'display_data';\n",
              "        await google.colab.output.renderOutput(dataTable, element);\n",
              "        const docLink = document.createElement('div');\n",
              "        docLink.innerHTML = docLinkHtml;\n",
              "        element.appendChild(docLink);\n",
              "      }\n",
              "    </script>\n",
              "  </div>\n",
              "\n",
              "\n",
              "  <div id=\"id_08ddd895-53b4-451b-871f-0ed3a69a7183\">\n",
              "    <style>\n",
              "      .colab-df-generate {\n",
              "        background-color: #E8F0FE;\n",
              "        border: none;\n",
              "        border-radius: 50%;\n",
              "        cursor: pointer;\n",
              "        display: none;\n",
              "        fill: #1967D2;\n",
              "        height: 32px;\n",
              "        padding: 0 0 0 0;\n",
              "        width: 32px;\n",
              "      }\n",
              "\n",
              "      .colab-df-generate:hover {\n",
              "        background-color: #E2EBFA;\n",
              "        box-shadow: 0px 1px 2px rgba(60, 64, 67, 0.3), 0px 1px 3px 1px rgba(60, 64, 67, 0.15);\n",
              "        fill: #174EA6;\n",
              "      }\n",
              "\n",
              "      [theme=dark] .colab-df-generate {\n",
              "        background-color: #3B4455;\n",
              "        fill: #D2E3FC;\n",
              "      }\n",
              "\n",
              "      [theme=dark] .colab-df-generate:hover {\n",
              "        background-color: #434B5C;\n",
              "        box-shadow: 0px 1px 3px 1px rgba(0, 0, 0, 0.15);\n",
              "        filter: drop-shadow(0px 1px 2px rgba(0, 0, 0, 0.3));\n",
              "        fill: #FFFFFF;\n",
              "      }\n",
              "    </style>\n",
              "    <button class=\"colab-df-generate\" onclick=\"generateWithVariable('df')\"\n",
              "            title=\"Generate code using this dataframe.\"\n",
              "            style=\"display:none;\">\n",
              "\n",
              "  <svg xmlns=\"http://www.w3.org/2000/svg\" height=\"24px\"viewBox=\"0 0 24 24\"\n",
              "       width=\"24px\">\n",
              "    <path d=\"M7,19H8.4L18.45,9,17,7.55,7,17.6ZM5,21V16.75L18.45,3.32a2,2,0,0,1,2.83,0l1.4,1.43a1.91,1.91,0,0,1,.58,1.4,1.91,1.91,0,0,1-.58,1.4L9.25,21ZM18.45,9,17,7.55Zm-12,3A5.31,5.31,0,0,0,4.9,8.1,5.31,5.31,0,0,0,1,6.5,5.31,5.31,0,0,0,4.9,4.9,5.31,5.31,0,0,0,6.5,1,5.31,5.31,0,0,0,8.1,4.9,5.31,5.31,0,0,0,12,6.5,5.46,5.46,0,0,0,6.5,12Z\"/>\n",
              "  </svg>\n",
              "    </button>\n",
              "    <script>\n",
              "      (() => {\n",
              "      const buttonEl =\n",
              "        document.querySelector('#id_08ddd895-53b4-451b-871f-0ed3a69a7183 button.colab-df-generate');\n",
              "      buttonEl.style.display =\n",
              "        google.colab.kernel.accessAllowed ? 'block' : 'none';\n",
              "\n",
              "      buttonEl.onclick = () => {\n",
              "        google.colab.notebook.generateWithVariable('df');\n",
              "      }\n",
              "      })();\n",
              "    </script>\n",
              "  </div>\n",
              "\n",
              "    </div>\n",
              "  </div>\n"
            ],
            "application/vnd.google.colaboratory.intrinsic+json": {
              "type": "dataframe",
              "variable_name": "df",
              "repr_error": "'str' object has no attribute 'empty'"
            }
          },
          "metadata": {},
          "execution_count": 159
        }
      ]
    },
    {
      "cell_type": "code",
      "source": [
        "df3 = df1.merge(df2,\n",
        " on='id', how='right',\n",
        "indicator=True)\n",
        "df = df3.loc[df3['_merge']\n",
        " == 'right_only', 'id']\n",
        "d =df2[df2['id'].isin(df)]\n",
        "print(df3)\n",
        "print(df)\n",
        "d"
      ],
      "metadata": {
        "colab": {
          "base_uri": "https://localhost:8080/",
          "height": 281
        },
        "id": "8m8O4xURWpjp",
        "outputId": "311a2f8b-e577-4b9c-c8f3-55a57c86bf29"
      },
      "execution_count": null,
      "outputs": [
        {
          "output_type": "stream",
          "name": "stdout",
          "text": [
            "   id data1 data2      _merge\n",
            "0   3     C     X        both\n",
            "1   4     B     Y        both\n",
            "2   4     D     Y        both\n",
            "3   5   NaN     Z  right_only\n",
            "4   6   NaN     W  right_only\n",
            "3    5\n",
            "4    6\n",
            "Name: id, dtype: int64\n"
          ]
        },
        {
          "output_type": "execute_result",
          "data": {
            "text/plain": [
              "   id data2\n",
              "2   5     Z\n",
              "3   6     W"
            ],
            "text/html": [
              "\n",
              "  <div id=\"df-d2c14648-3b6d-484d-970d-51d627934907\" class=\"colab-df-container\">\n",
              "    <div>\n",
              "<style scoped>\n",
              "    .dataframe tbody tr th:only-of-type {\n",
              "        vertical-align: middle;\n",
              "    }\n",
              "\n",
              "    .dataframe tbody tr th {\n",
              "        vertical-align: top;\n",
              "    }\n",
              "\n",
              "    .dataframe thead th {\n",
              "        text-align: right;\n",
              "    }\n",
              "</style>\n",
              "<table border=\"1\" class=\"dataframe\">\n",
              "  <thead>\n",
              "    <tr style=\"text-align: right;\">\n",
              "      <th></th>\n",
              "      <th>id</th>\n",
              "      <th>data2</th>\n",
              "    </tr>\n",
              "  </thead>\n",
              "  <tbody>\n",
              "    <tr>\n",
              "      <th>2</th>\n",
              "      <td>5</td>\n",
              "      <td>Z</td>\n",
              "    </tr>\n",
              "    <tr>\n",
              "      <th>3</th>\n",
              "      <td>6</td>\n",
              "      <td>W</td>\n",
              "    </tr>\n",
              "  </tbody>\n",
              "</table>\n",
              "</div>\n",
              "    <div class=\"colab-df-buttons\">\n",
              "\n",
              "  <div class=\"colab-df-container\">\n",
              "    <button class=\"colab-df-convert\" onclick=\"convertToInteractive('df-d2c14648-3b6d-484d-970d-51d627934907')\"\n",
              "            title=\"Convert this dataframe to an interactive table.\"\n",
              "            style=\"display:none;\">\n",
              "\n",
              "  <svg xmlns=\"http://www.w3.org/2000/svg\" height=\"24px\" viewBox=\"0 -960 960 960\">\n",
              "    <path d=\"M120-120v-720h720v720H120Zm60-500h600v-160H180v160Zm220 220h160v-160H400v160Zm0 220h160v-160H400v160ZM180-400h160v-160H180v160Zm440 0h160v-160H620v160ZM180-180h160v-160H180v160Zm440 0h160v-160H620v160Z\"/>\n",
              "  </svg>\n",
              "    </button>\n",
              "\n",
              "  <style>\n",
              "    .colab-df-container {\n",
              "      display:flex;\n",
              "      gap: 12px;\n",
              "    }\n",
              "\n",
              "    .colab-df-convert {\n",
              "      background-color: #E8F0FE;\n",
              "      border: none;\n",
              "      border-radius: 50%;\n",
              "      cursor: pointer;\n",
              "      display: none;\n",
              "      fill: #1967D2;\n",
              "      height: 32px;\n",
              "      padding: 0 0 0 0;\n",
              "      width: 32px;\n",
              "    }\n",
              "\n",
              "    .colab-df-convert:hover {\n",
              "      background-color: #E2EBFA;\n",
              "      box-shadow: 0px 1px 2px rgba(60, 64, 67, 0.3), 0px 1px 3px 1px rgba(60, 64, 67, 0.15);\n",
              "      fill: #174EA6;\n",
              "    }\n",
              "\n",
              "    .colab-df-buttons div {\n",
              "      margin-bottom: 4px;\n",
              "    }\n",
              "\n",
              "    [theme=dark] .colab-df-convert {\n",
              "      background-color: #3B4455;\n",
              "      fill: #D2E3FC;\n",
              "    }\n",
              "\n",
              "    [theme=dark] .colab-df-convert:hover {\n",
              "      background-color: #434B5C;\n",
              "      box-shadow: 0px 1px 3px 1px rgba(0, 0, 0, 0.15);\n",
              "      filter: drop-shadow(0px 1px 2px rgba(0, 0, 0, 0.3));\n",
              "      fill: #FFFFFF;\n",
              "    }\n",
              "  </style>\n",
              "\n",
              "    <script>\n",
              "      const buttonEl =\n",
              "        document.querySelector('#df-d2c14648-3b6d-484d-970d-51d627934907 button.colab-df-convert');\n",
              "      buttonEl.style.display =\n",
              "        google.colab.kernel.accessAllowed ? 'block' : 'none';\n",
              "\n",
              "      async function convertToInteractive(key) {\n",
              "        const element = document.querySelector('#df-d2c14648-3b6d-484d-970d-51d627934907');\n",
              "        const dataTable =\n",
              "          await google.colab.kernel.invokeFunction('convertToInteractive',\n",
              "                                                    [key], {});\n",
              "        if (!dataTable) return;\n",
              "\n",
              "        const docLinkHtml = 'Like what you see? Visit the ' +\n",
              "          '<a target=\"_blank\" href=https://colab.research.google.com/notebooks/data_table.ipynb>data table notebook</a>'\n",
              "          + ' to learn more about interactive tables.';\n",
              "        element.innerHTML = '';\n",
              "        dataTable['output_type'] = 'display_data';\n",
              "        await google.colab.output.renderOutput(dataTable, element);\n",
              "        const docLink = document.createElement('div');\n",
              "        docLink.innerHTML = docLinkHtml;\n",
              "        element.appendChild(docLink);\n",
              "      }\n",
              "    </script>\n",
              "  </div>\n",
              "\n",
              "\n",
              "<div id=\"df-061654a8-14b5-4337-b301-9a5f9fdce2ce\">\n",
              "  <button class=\"colab-df-quickchart\" onclick=\"quickchart('df-061654a8-14b5-4337-b301-9a5f9fdce2ce')\"\n",
              "            title=\"Suggest charts\"\n",
              "            style=\"display:none;\">\n",
              "\n",
              "<svg xmlns=\"http://www.w3.org/2000/svg\" height=\"24px\"viewBox=\"0 0 24 24\"\n",
              "     width=\"24px\">\n",
              "    <g>\n",
              "        <path d=\"M19 3H5c-1.1 0-2 .9-2 2v14c0 1.1.9 2 2 2h14c1.1 0 2-.9 2-2V5c0-1.1-.9-2-2-2zM9 17H7v-7h2v7zm4 0h-2V7h2v10zm4 0h-2v-4h2v4z\"/>\n",
              "    </g>\n",
              "</svg>\n",
              "  </button>\n",
              "\n",
              "<style>\n",
              "  .colab-df-quickchart {\n",
              "      --bg-color: #E8F0FE;\n",
              "      --fill-color: #1967D2;\n",
              "      --hover-bg-color: #E2EBFA;\n",
              "      --hover-fill-color: #174EA6;\n",
              "      --disabled-fill-color: #AAA;\n",
              "      --disabled-bg-color: #DDD;\n",
              "  }\n",
              "\n",
              "  [theme=dark] .colab-df-quickchart {\n",
              "      --bg-color: #3B4455;\n",
              "      --fill-color: #D2E3FC;\n",
              "      --hover-bg-color: #434B5C;\n",
              "      --hover-fill-color: #FFFFFF;\n",
              "      --disabled-bg-color: #3B4455;\n",
              "      --disabled-fill-color: #666;\n",
              "  }\n",
              "\n",
              "  .colab-df-quickchart {\n",
              "    background-color: var(--bg-color);\n",
              "    border: none;\n",
              "    border-radius: 50%;\n",
              "    cursor: pointer;\n",
              "    display: none;\n",
              "    fill: var(--fill-color);\n",
              "    height: 32px;\n",
              "    padding: 0;\n",
              "    width: 32px;\n",
              "  }\n",
              "\n",
              "  .colab-df-quickchart:hover {\n",
              "    background-color: var(--hover-bg-color);\n",
              "    box-shadow: 0 1px 2px rgba(60, 64, 67, 0.3), 0 1px 3px 1px rgba(60, 64, 67, 0.15);\n",
              "    fill: var(--button-hover-fill-color);\n",
              "  }\n",
              "\n",
              "  .colab-df-quickchart-complete:disabled,\n",
              "  .colab-df-quickchart-complete:disabled:hover {\n",
              "    background-color: var(--disabled-bg-color);\n",
              "    fill: var(--disabled-fill-color);\n",
              "    box-shadow: none;\n",
              "  }\n",
              "\n",
              "  .colab-df-spinner {\n",
              "    border: 2px solid var(--fill-color);\n",
              "    border-color: transparent;\n",
              "    border-bottom-color: var(--fill-color);\n",
              "    animation:\n",
              "      spin 1s steps(1) infinite;\n",
              "  }\n",
              "\n",
              "  @keyframes spin {\n",
              "    0% {\n",
              "      border-color: transparent;\n",
              "      border-bottom-color: var(--fill-color);\n",
              "      border-left-color: var(--fill-color);\n",
              "    }\n",
              "    20% {\n",
              "      border-color: transparent;\n",
              "      border-left-color: var(--fill-color);\n",
              "      border-top-color: var(--fill-color);\n",
              "    }\n",
              "    30% {\n",
              "      border-color: transparent;\n",
              "      border-left-color: var(--fill-color);\n",
              "      border-top-color: var(--fill-color);\n",
              "      border-right-color: var(--fill-color);\n",
              "    }\n",
              "    40% {\n",
              "      border-color: transparent;\n",
              "      border-right-color: var(--fill-color);\n",
              "      border-top-color: var(--fill-color);\n",
              "    }\n",
              "    60% {\n",
              "      border-color: transparent;\n",
              "      border-right-color: var(--fill-color);\n",
              "    }\n",
              "    80% {\n",
              "      border-color: transparent;\n",
              "      border-right-color: var(--fill-color);\n",
              "      border-bottom-color: var(--fill-color);\n",
              "    }\n",
              "    90% {\n",
              "      border-color: transparent;\n",
              "      border-bottom-color: var(--fill-color);\n",
              "    }\n",
              "  }\n",
              "</style>\n",
              "\n",
              "  <script>\n",
              "    async function quickchart(key) {\n",
              "      const quickchartButtonEl =\n",
              "        document.querySelector('#' + key + ' button');\n",
              "      quickchartButtonEl.disabled = true;  // To prevent multiple clicks.\n",
              "      quickchartButtonEl.classList.add('colab-df-spinner');\n",
              "      try {\n",
              "        const charts = await google.colab.kernel.invokeFunction(\n",
              "            'suggestCharts', [key], {});\n",
              "      } catch (error) {\n",
              "        console.error('Error during call to suggestCharts:', error);\n",
              "      }\n",
              "      quickchartButtonEl.classList.remove('colab-df-spinner');\n",
              "      quickchartButtonEl.classList.add('colab-df-quickchart-complete');\n",
              "    }\n",
              "    (() => {\n",
              "      let quickchartButtonEl =\n",
              "        document.querySelector('#df-061654a8-14b5-4337-b301-9a5f9fdce2ce button');\n",
              "      quickchartButtonEl.style.display =\n",
              "        google.colab.kernel.accessAllowed ? 'block' : 'none';\n",
              "    })();\n",
              "  </script>\n",
              "</div>\n",
              "\n",
              "  <div id=\"id_a883a869-1367-43c9-9862-014f05a3e848\">\n",
              "    <style>\n",
              "      .colab-df-generate {\n",
              "        background-color: #E8F0FE;\n",
              "        border: none;\n",
              "        border-radius: 50%;\n",
              "        cursor: pointer;\n",
              "        display: none;\n",
              "        fill: #1967D2;\n",
              "        height: 32px;\n",
              "        padding: 0 0 0 0;\n",
              "        width: 32px;\n",
              "      }\n",
              "\n",
              "      .colab-df-generate:hover {\n",
              "        background-color: #E2EBFA;\n",
              "        box-shadow: 0px 1px 2px rgba(60, 64, 67, 0.3), 0px 1px 3px 1px rgba(60, 64, 67, 0.15);\n",
              "        fill: #174EA6;\n",
              "      }\n",
              "\n",
              "      [theme=dark] .colab-df-generate {\n",
              "        background-color: #3B4455;\n",
              "        fill: #D2E3FC;\n",
              "      }\n",
              "\n",
              "      [theme=dark] .colab-df-generate:hover {\n",
              "        background-color: #434B5C;\n",
              "        box-shadow: 0px 1px 3px 1px rgba(0, 0, 0, 0.15);\n",
              "        filter: drop-shadow(0px 1px 2px rgba(0, 0, 0, 0.3));\n",
              "        fill: #FFFFFF;\n",
              "      }\n",
              "    </style>\n",
              "    <button class=\"colab-df-generate\" onclick=\"generateWithVariable('d')\"\n",
              "            title=\"Generate code using this dataframe.\"\n",
              "            style=\"display:none;\">\n",
              "\n",
              "  <svg xmlns=\"http://www.w3.org/2000/svg\" height=\"24px\"viewBox=\"0 0 24 24\"\n",
              "       width=\"24px\">\n",
              "    <path d=\"M7,19H8.4L18.45,9,17,7.55,7,17.6ZM5,21V16.75L18.45,3.32a2,2,0,0,1,2.83,0l1.4,1.43a1.91,1.91,0,0,1,.58,1.4,1.91,1.91,0,0,1-.58,1.4L9.25,21ZM18.45,9,17,7.55Zm-12,3A5.31,5.31,0,0,0,4.9,8.1,5.31,5.31,0,0,0,1,6.5,5.31,5.31,0,0,0,4.9,4.9,5.31,5.31,0,0,0,6.5,1,5.31,5.31,0,0,0,8.1,4.9,5.31,5.31,0,0,0,12,6.5,5.46,5.46,0,0,0,6.5,12Z\"/>\n",
              "  </svg>\n",
              "    </button>\n",
              "    <script>\n",
              "      (() => {\n",
              "      const buttonEl =\n",
              "        document.querySelector('#id_a883a869-1367-43c9-9862-014f05a3e848 button.colab-df-generate');\n",
              "      buttonEl.style.display =\n",
              "        google.colab.kernel.accessAllowed ? 'block' : 'none';\n",
              "\n",
              "      buttonEl.onclick = () => {\n",
              "        google.colab.notebook.generateWithVariable('d');\n",
              "      }\n",
              "      })();\n",
              "    </script>\n",
              "  </div>\n",
              "\n",
              "    </div>\n",
              "  </div>\n"
            ],
            "application/vnd.google.colaboratory.intrinsic+json": {
              "type": "dataframe",
              "variable_name": "d",
              "summary": "{\n  \"name\": \"d\",\n  \"rows\": 2,\n  \"fields\": [\n    {\n      \"column\": \"id\",\n      \"properties\": {\n        \"dtype\": \"number\",\n        \"std\": 0,\n        \"min\": 5,\n        \"max\": 6,\n        \"num_unique_values\": 2,\n        \"samples\": [\n          6,\n          5\n        ],\n        \"semantic_type\": \"\",\n        \"description\": \"\"\n      }\n    },\n    {\n      \"column\": \"data2\",\n      \"properties\": {\n        \"dtype\": \"string\",\n        \"num_unique_values\": 2,\n        \"samples\": [\n          \"W\",\n          \"Z\"\n        ],\n        \"semantic_type\": \"\",\n        \"description\": \"\"\n      }\n    }\n  ]\n}"
            }
          },
          "metadata": {},
          "execution_count": 164
        }
      ]
    },
    {
      "cell_type": "code",
      "source": [
        "df3 = df1.merge(df2, left_on='id', right_on='id', how='outer', indicator=True)\n",
        "\n",
        "# Filter out rows where the merge indicator is 'both'\n",
        "d = df3.loc[df3['_merge'] != 'both']\n",
        "\n",
        "print(d)"
      ],
      "metadata": {
        "colab": {
          "base_uri": "https://localhost:8080/"
        },
        "id": "cQh3VC1aY_-5",
        "outputId": "63c0a7e0-6beb-4bad-b40e-0b7ceb6c4d0f"
      },
      "execution_count": null,
      "outputs": [
        {
          "output_type": "stream",
          "name": "stdout",
          "text": [
            "   id data1 data2      _merge\n",
            "0   1     A   NaN   left_only\n",
            "4   5   NaN     Z  right_only\n",
            "5   6   NaN     W  right_only\n"
          ]
        }
      ]
    },
    {
      "cell_type": "code",
      "source": [
        "d = df1.merge(df2, left_on='id', right_on='id')\n",
        "\n",
        "print(d)"
      ],
      "metadata": {
        "colab": {
          "base_uri": "https://localhost:8080/"
        },
        "id": "vBegEFDhZZpO",
        "outputId": "fc24a2a3-8ecf-4eff-c718-7a0c859e91f8"
      },
      "execution_count": null,
      "outputs": [
        {
          "output_type": "stream",
          "name": "stdout",
          "text": [
            "   id data1 data2\n",
            "0   4     B     Y\n",
            "1   4     D     Y\n",
            "2   3     C     X\n"
          ]
        }
      ]
    },
    {
      "cell_type": "code",
      "source": [
        "# Merge DataFrame 1 and DataFrame 2 on 'id' column\n",
        "d = df1.merge(df2, on=['id'])\n",
        "\n",
        "print(d)"
      ],
      "metadata": {
        "colab": {
          "base_uri": "https://localhost:8080/"
        },
        "id": "q2v-qJfaZy_O",
        "outputId": "e02eb0f2-8536-448b-a5ae-8c8c4a969eea"
      },
      "execution_count": null,
      "outputs": [
        {
          "output_type": "stream",
          "name": "stdout",
          "text": [
            "   id data1 data2\n",
            "0   4     B     Y\n",
            "1   4     D     Y\n",
            "2   3     C     X\n"
          ]
        }
      ]
    },
    {
      "cell_type": "markdown",
      "source": [
        "Task1.16:Let’s say that we want to merge frames df1 and df2 using a left outer join,Select all the columns from df1 but only column colE fromdf2."
      ],
      "metadata": {
        "id": "QfphxcUtYruC"
      }
    },
    {
      "cell_type": "code",
      "source": [
        "merged_df = pd.merge(df1, df2[['id', 'data2']], on='id', how='left')\n",
        "\n",
        "print(merged_df)"
      ],
      "metadata": {
        "colab": {
          "base_uri": "https://localhost:8080/"
        },
        "id": "_qaGqMFQXWWZ",
        "outputId": "cce8f624-ea85-4628-fbe2-85e29973cb98"
      },
      "execution_count": null,
      "outputs": [
        {
          "output_type": "stream",
          "name": "stdout",
          "text": [
            "   id data1 data2\n",
            "0   1     A   NaN\n",
            "1   4     B     Y\n",
            "2   3     C     X\n",
            "3   4     D     Y\n"
          ]
        }
      ]
    }
  ]
}